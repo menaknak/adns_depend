{
 "cells": [
  {
   "cell_type": "code",
   "execution_count": 9,
   "id": "a4346935",
   "metadata": {},
   "outputs": [],
   "source": [
    "import subprocess\n",
    "import json\n",
    "import time\n",
    "import tldextract\n",
    "import threading\n",
    "import os\n",
    "import time\n",
    "import queue\n",
    "import threading\n",
    "import json"
   ]
  },
  {
   "cell_type": "code",
   "execution_count": 1,
   "id": "18519127",
   "metadata": {},
   "outputs": [
    {
     "data": {
      "text/plain": [
       "['cernet', 'net']"
      ]
     },
     "execution_count": 1,
     "metadata": {},
     "output_type": "execute_result"
    }
   ],
   "source": [
    "sld = 'cernet.net'\n",
    "labels = sld.split('.')\n",
    "labels"
   ]
  },
  {
   "cell_type": "code",
   "execution_count": 2,
   "id": "1b1cda67",
   "metadata": {},
   "outputs": [],
   "source": [
    "def load_data(filename):\n",
    "    ip_list=[]\n",
    "    with open(filename,'r') as f:\n",
    "        ip_list=f.readlines()\n",
    "    return [i.strip() for i in ip_list]\n"
   ]
  },
  {
   "cell_type": "code",
   "execution_count": 5,
   "id": "ec7a496e",
   "metadata": {},
   "outputs": [
    {
     "name": "stdout",
     "output_type": "stream",
     "text": [
      "/home/nly/DNS/CZDS/adns_depend/script\n"
     ]
    }
   ],
   "source": [
    "import os\n",
    "current_directory = os.getcwd()\n",
    "print(current_directory)\n"
   ]
  },
  {
   "cell_type": "code",
   "execution_count": 7,
   "id": "24e6ec68",
   "metadata": {},
   "outputs": [
    {
     "data": {
      "text/plain": [
       "['199.7.83.42']"
      ]
     },
     "execution_count": 7,
     "metadata": {},
     "output_type": "execute_result"
    }
   ],
   "source": [
    "root_nsip = load_data(os.getcwd() + \"/root_nsip_test\")\n",
    "root_nsip"
   ]
  },
  {
   "cell_type": "code",
   "execution_count": 8,
   "id": "70c89b6e",
   "metadata": {},
   "outputs": [
    {
     "data": {
      "text/plain": [
       "True"
      ]
     },
     "execution_count": 8,
     "metadata": {},
     "output_type": "execute_result"
    }
   ],
   "source": [
    "a=''\n",
    "not a"
   ]
  },
  {
   "cell_type": "code",
   "execution_count": null,
   "id": "b8338ef7",
   "metadata": {},
   "outputs": [],
   "source": [
    "\n",
    "\n",
    "root_nsip = load_data(os.getcwd() + \"/root_nsip_test\")\n",
    "\n",
    "CACHE =\n",
    "\n",
    "def alookup(domain，server_ip):\n",
    "    \n",
    "    if CACHE[domain]:\n",
    "        return CACHE[domain]\n",
    "\n",
    "    cur='' \n",
    "    cur_nsip=''#一开始没有ns，等着分配root\n",
    "    \n",
    "    labels = domain.split('.')\n",
    "    \n",
    "        for cur_label in labels[::-1]:\n",
    "            cur = cur_label + cur # net\n",
    "        \n",
    "            #判断是不是从根开始查询\n",
    "            if not cur_nsip:\n",
    "                cur_nsip=alookup()\n",
    "        \n",
    "    return a_answer\n",
    "\n",
    "\n",
    "for cur_root in root_nsip: #有13个ipv4，13个ipv6，后续需要分开成两个输出文件夹？对，目前先完善v4的查询\n"
   ]
  },
  {
   "cell_type": "code",
   "execution_count": 10,
   "id": "f8db28b4",
   "metadata": {},
   "outputs": [],
   "source": [
    "def run_zdns_cmd(cmd):\n",
    "    retry_count = 1\n",
    "    max_retries = 3\n",
    "    \n",
    "    while retry_count < max_retries:\n",
    "        process = subprocess.Popen(cmd, stdout=subprocess.PIPE, stderr=subprocess.PIPE, shell=True)\n",
    "        output, error = process.communicate()\n",
    "        output_decoded = output.decode('utf-8')\n",
    "        if 'TIMEOUT' not in output_decoded:\n",
    "            break\n",
    "        retry_count += 1\n",
    "        time.sleep(5)\n",
    "    return output_decoded, error.decode('utf-8')"
   ]
  },
  {
   "cell_type": "markdown",
   "id": "ce4f5698",
   "metadata": {},
   "source": [
    "{\n",
    "  \"data\": {\n",
    "    \"answers\": [\n",
    "      {\n",
    "        \"answer\": \"www.cernet.edu.\",\n",
    "        \"class\": \"IN\",\n",
    "        \"name\": \"www.cernet.net\",\n",
    "        \"ttl\": 172800,\n",
    "        \"type\": \"CNAME\"\n",
    "      }\n",
    "    ],\n",
    "    \"protocol\": \"udp\",\n",
    "    \"resolver\": \"202.38.109.35:53\"\n",
    "  },\n",
    "  \"name\": \"www.cernet.net\",\n",
    "  \"status\": \"NOERROR\",\n",
    "  \"timestamp\": \"2024-07-30T17:32:17+08:00\"\n",
    "}"
   ]
  },
  {
   "cell_type": "markdown",
   "id": "a33f11f6",
   "metadata": {},
   "source": [
    "{\n",
    "  \"data\": {\n",
    "    \"additionals\": [\n",
    "      {\n",
    "        \"answer\": \"194.169.218.54\",\n",
    "        \"class\": \"IN\",\n",
    "        \"name\": \"a.nic.online\",\n",
    "        \"ttl\": 172800,\n",
    "        \"type\": \"A\"\n",
    "      },\n",
    "      {\n",
    "        \"answer\": \"185.24.64.54\",\n",
    "        \"class\": \"IN\",\n",
    "        \"name\": \"b.nic.online\",\n",
    "        \"ttl\": 172800,\n",
    "        \"type\": \"A\"\n",
    "      },\n",
    "      {\n",
    "        \"answer\": \"212.18.248.54\",\n",
    "        \"class\": \"IN\",\n",
    "        \"name\": \"e.nic.online\",\n",
    "        \"ttl\": 172800,\n",
    "        \"type\": \"A\"\n",
    "      },\n",
    "      {\n",
    "        \"answer\": \"212.18.249.54\",\n",
    "        \"class\": \"IN\",\n",
    "        \"name\": \"f.nic.online\",\n",
    "        \"ttl\": 172800,\n",
    "        \"type\": \"A\"\n",
    "      },\n",
    "      {\n",
    "        \"answer\": \"2001:67c:13cc::1:54\",\n",
    "        \"class\": \"IN\",\n",
    "        \"name\": \"a.nic.online\",\n",
    "        \"ttl\": 172800,\n",
    "        \"type\": \"AAAA\"\n",
    "      },\n",
    "      {\n",
    "        \"answer\": \"2a04:2b00:13cc::1:54\",\n",
    "        \"class\": \"IN\",\n",
    "        \"name\": \"b.nic.online\",\n",
    "        \"ttl\": 172800,\n",
    "        \"type\": \"AAAA\"\n",
    "      },\n",
    "      {\n",
    "        \"answer\": \"2a04:2b00:13ee::54\",\n",
    "        \"class\": \"IN\",\n",
    "        \"name\": \"e.nic.online\",\n",
    "        \"ttl\": 172800,\n",
    "        \"type\": \"AAAA\"\n",
    "      },\n",
    "      {\n",
    "        \"answer\": \"2a04:2b00:13ff::54\",\n",
    "        \"class\": \"IN\",\n",
    "        \"name\": \"f.nic.online\",\n",
    "        \"ttl\": 172800,\n",
    "        \"type\": \"AAAA\"\n",
    "      },\n",
    "      {\n",
    "        \"flags\": \"\",\n",
    "        \"type\": \"EDNS0\",\n",
    "        \"udpsize\": 1232,\n",
    "        \"version\": 0\n",
    "      }\n",
    "    ],\n",
    "    \"authorities\": [\n",
    "      {\n",
    "        \"answer\": \"f.nic.online.\",\n",
    "        \"class\": \"IN\",\n",
    "        \"name\": \"online\",\n",
    "        \"ttl\": 172800,\n",
    "        \"type\": \"NS\"\n",
    "      },\n",
    "      {\n",
    "        \"answer\": \"a.nic.online.\",\n",
    "        \"class\": \"IN\",\n",
    "        \"name\": \"online\",\n",
    "        \"ttl\": 172800,\n",
    "        \"type\": \"NS\"\n",
    "      },\n",
    "      {\n",
    "        \"answer\": \"e.nic.online.\",\n",
    "        \"class\": \"IN\",\n",
    "        \"name\": \"online\",\n",
    "        \"ttl\": 172800,\n",
    "        \"type\": \"NS\"\n",
    "      },\n",
    "      {\n",
    "        \"answer\": \"b.nic.online.\",\n",
    "        \"class\": \"IN\",\n",
    "        \"name\": \"online\",\n",
    "        \"ttl\": 172800,\n",
    "        \"type\": \"NS\"\n",
    "      }\n",
    "    ],\n",
    "    \"protocol\": \"udp\",\n",
    "    \"resolver\": \"192.58.128.30:53\"\n",
    "  },\n",
    "  \"name\": \"1.unique.001.uniquefortest.online\",\n",
    "  \"status\": \"NOERROR\",\n",
    "  \"timestamp\": \"2024-07-30T17:27:04+08:00\"\n",
    "}"
   ]
  },
  {
   "cell_type": "code",
   "execution_count": null,
   "id": "de0ae7ef",
   "metadata": {},
   "outputs": [],
   "source": [
    "\n",
    "\n",
    "root_nsip = load_data(os.getcwd() + \"/root_nsip_test\")\n",
    "\n",
    "CACHE =\n",
    "\n",
    "def alookup(domain，server_ip):\n",
    "    \n",
    "    if CACHE[domain]:\n",
    "        return CACHE[domain]\n",
    "\n",
    "    cmd = f'echo {domain} | zdns A --name-servers={server_ip}'\n",
    "    recv_raw, err = run_zdns_cmd(cmd)\n",
    "    \n",
    "    # if 没有answers 在 data中，说明没拿到最后的A回答，但是可以看看有没有 \"additionals\" 和 \"authorities\"\n",
    "    recv_dict = json.loads(recv_raw.strip())\n",
    "    \n",
    "    #现在得到回答的字典了，从中提取所有adns和adnsip（ns,nsip）,循环遍历\n",
    "    \n",
    "    \n",
    "    # 如果没有任何(ns,nsip)，则提取出来ns，对ns进一步查询A记录，然后获取nsip\n",
    "        \n",
    "        \n",
    "        \n",
    "        \n",
    "        \n",
    "        \n",
    "        \n",
    "        \n",
    "        \n",
    "        \n",
    "        \n",
    "        \n",
    "        \n",
    "        \n",
    "    return a_answer\n",
    "\n",
    "\n",
    "for cur_root in root_nsip: #有13个ipv4，13个ipv6，后续需要分开成两个输出文件夹？对，目前先完善v4的查询\n"
   ]
  }
 ],
 "metadata": {
  "kernelspec": {
   "display_name": "base",
   "language": "python",
   "name": "base"
  },
  "language_info": {
   "codemirror_mode": {
    "name": "ipython",
    "version": 3
   },
   "file_extension": ".py",
   "mimetype": "text/x-python",
   "name": "python",
   "nbconvert_exporter": "python",
   "pygments_lexer": "ipython3",
   "version": "3.9.7"
  }
 },
 "nbformat": 4,
 "nbformat_minor": 5
}
