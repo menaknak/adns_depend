{
 "cells": [
  {
   "cell_type": "code",
   "execution_count": 11,
   "id": "a4346935",
   "metadata": {},
   "outputs": [],
   "source": [
    "import subprocess\n",
    "import json\n",
    "import time\n",
    "import tldextract\n",
    "import threading\n",
    "import os\n",
    "import time\n",
    "import queue\n",
    "import threading\n",
    "import json\n",
    "from pprint import pprint as pp"
   ]
  },
  {
   "cell_type": "code",
   "execution_count": 75,
   "id": "bb7a84e3",
   "metadata": {},
   "outputs": [],
   "source": [
    "import os\n",
    "import pickle\n",
    "from tqdm import tqdm\n",
    "import time\n",
    "from pprint import pprint as pp\n",
    "import pandas as pd\n",
    "import numpy as np\n",
    "from collections import Counter,defaultdict\n",
    "import statsmodels.api as sm\n",
    "\n",
    "# 取消最大行数限制\n",
    "pd.set_option('display.max_rows', None)\n",
    "# 取消最大列数限制\n",
    "pd.set_option('display.max_columns', None)\n",
    "pd.set_option('display.max_colwidth', None)\n",
    "\n",
    "\n",
    "DATE = time.strftime('%Y%m%d',time.localtime())\n",
    "\n",
    "def get_var_name(var):\n",
    "    for name, value in globals().items():\n",
    "        if value is globals():\n",
    "            return name\n",
    "    return None\n",
    "\n",
    "def get_var(name):\n",
    "    if name in globals():\n",
    "        return globals()[name]\n",
    "    return None\n",
    "\n",
    "\n",
    "def load_data(filename):\n",
    "    if 'txt' in filename or 'log' in filename or 'json' in  filename:\n",
    "        ip_list=[]\n",
    "        with open(filename,'r') as f:\n",
    "            ip_list=f.readlines()\n",
    "        return [i.strip() for i in ip_list]\n",
    "    else:\n",
    "        import pickle\n",
    "        with open(filename,'rb') as f:\n",
    "            return pickle.load(f)\n",
    "\n",
    "def mkdir(path):\n",
    "    path = path.strip().rstrip('/')\n",
    "    exist = os.path.exists(path)\n",
    "    if not exist:\n",
    "        try:\n",
    "            os.makedirs(path)\n",
    "        except:\n",
    "            pass\n",
    "\n",
    "def getfilelist(cur_path):\n",
    "    filelist=[]\n",
    "    for parent,dirs,files in os.walk(cur_path):\n",
    "        flist=list(map(lambda x:os.path.join(parent,x),files))\n",
    "        filelist.extend(flist)\n",
    "    return filelist\n",
    "import matplotlib as mpl\n",
    "mpl.rcParams['pdf.fonttype'] = 42\n",
    "mpl.rcParams['ps.fonttype'] = 42\n",
    "\n",
    "import tldextract\n",
    "def extract_sld(fqdn):\n",
    "    result = tldextract.extract(fqdn)\n",
    "    sld = f\"{result.domain}.{result.suffix}\"\n",
    "    return sld\n",
    "\n",
    "def extract_tld(fqdn):\n",
    "    result = tldextract.extract(fqdn)\n",
    "    tld = f\"{result.suffix}\"\n",
    "    return tld\n",
    "\n",
    "\n",
    "%config InlineBackend.figure_format = 'retina'"
   ]
  },
  {
   "cell_type": "code",
   "execution_count": 28,
   "id": "a2f63729",
   "metadata": {},
   "outputs": [
    {
     "data": {
      "text/plain": [
       "'unimagdalena.edu.co'"
      ]
     },
     "execution_count": 28,
     "metadata": {},
     "output_type": "execute_result"
    }
   ],
   "source": [
    "def extract_sld(fqdn):\n",
    "    result = tldextract.extract(fqdn)\n",
    "    sld = f\"{result.domain}.{result.suffix}\"\n",
    "    return sld\n",
    "\n",
    "def extract_vendor(fqdn):\n",
    "    result = tldextract.extract(fqdn)\n",
    "    sld = f\"{result.domain}\"\n",
    "    return sld\n",
    "\n",
    "d = 'unimagdalena.edu.co'\n",
    "\n",
    "extract_sld(d)"
   ]
  },
  {
   "cell_type": "code",
   "execution_count": 1,
   "id": "18519127",
   "metadata": {},
   "outputs": [
    {
     "data": {
      "text/plain": [
       "['cernet', 'net']"
      ]
     },
     "execution_count": 1,
     "metadata": {},
     "output_type": "execute_result"
    }
   ],
   "source": [
    "sld = 'cernet.net'\n",
    "labels = sld.split('.')\n",
    "labels"
   ]
  },
  {
   "cell_type": "code",
   "execution_count": 2,
   "id": "ef7ab3a5",
   "metadata": {
    "scrolled": true
   },
   "outputs": [
    {
     "ename": "JSONDecodeError",
     "evalue": "Expecting value: line 1 column 1 (char 0)",
     "output_type": "error",
     "traceback": [
      "\u001b[0;31m---------------------------------------------------------------------------\u001b[0m",
      "\u001b[0;31mJSONDecodeError\u001b[0m                           Traceback (most recent call last)",
      "\u001b[0;32m/tmp/ipykernel_101778/1808578442.py\u001b[0m in \u001b[0;36m<module>\u001b[0;34m\u001b[0m\n\u001b[1;32m      1\u001b[0m \u001b[0ma\u001b[0m\u001b[0;34m=\u001b[0m\u001b[0;34m''\u001b[0m\u001b[0;34m\u001b[0m\u001b[0;34m\u001b[0m\u001b[0m\n\u001b[0;32m----> 2\u001b[0;31m \u001b[0mjson\u001b[0m\u001b[0;34m.\u001b[0m\u001b[0mloads\u001b[0m\u001b[0;34m(\u001b[0m\u001b[0ma\u001b[0m\u001b[0;34m)\u001b[0m\u001b[0;34m\u001b[0m\u001b[0;34m\u001b[0m\u001b[0m\n\u001b[0m",
      "\u001b[0;32m~/anaconda3/lib/python3.9/json/__init__.py\u001b[0m in \u001b[0;36mloads\u001b[0;34m(s, cls, object_hook, parse_float, parse_int, parse_constant, object_pairs_hook, **kw)\u001b[0m\n\u001b[1;32m    344\u001b[0m             \u001b[0mparse_int\u001b[0m \u001b[0;32mis\u001b[0m \u001b[0;32mNone\u001b[0m \u001b[0;32mand\u001b[0m \u001b[0mparse_float\u001b[0m \u001b[0;32mis\u001b[0m \u001b[0;32mNone\u001b[0m \u001b[0;32mand\u001b[0m\u001b[0;34m\u001b[0m\u001b[0;34m\u001b[0m\u001b[0m\n\u001b[1;32m    345\u001b[0m             parse_constant is None and object_pairs_hook is None and not kw):\n\u001b[0;32m--> 346\u001b[0;31m         \u001b[0;32mreturn\u001b[0m \u001b[0m_default_decoder\u001b[0m\u001b[0;34m.\u001b[0m\u001b[0mdecode\u001b[0m\u001b[0;34m(\u001b[0m\u001b[0ms\u001b[0m\u001b[0;34m)\u001b[0m\u001b[0;34m\u001b[0m\u001b[0;34m\u001b[0m\u001b[0m\n\u001b[0m\u001b[1;32m    347\u001b[0m     \u001b[0;32mif\u001b[0m \u001b[0mcls\u001b[0m \u001b[0;32mis\u001b[0m \u001b[0;32mNone\u001b[0m\u001b[0;34m:\u001b[0m\u001b[0;34m\u001b[0m\u001b[0;34m\u001b[0m\u001b[0m\n\u001b[1;32m    348\u001b[0m         \u001b[0mcls\u001b[0m \u001b[0;34m=\u001b[0m \u001b[0mJSONDecoder\u001b[0m\u001b[0;34m\u001b[0m\u001b[0;34m\u001b[0m\u001b[0m\n",
      "\u001b[0;32m~/anaconda3/lib/python3.9/json/decoder.py\u001b[0m in \u001b[0;36mdecode\u001b[0;34m(self, s, _w)\u001b[0m\n\u001b[1;32m    335\u001b[0m \u001b[0;34m\u001b[0m\u001b[0m\n\u001b[1;32m    336\u001b[0m         \"\"\"\n\u001b[0;32m--> 337\u001b[0;31m         \u001b[0mobj\u001b[0m\u001b[0;34m,\u001b[0m \u001b[0mend\u001b[0m \u001b[0;34m=\u001b[0m \u001b[0mself\u001b[0m\u001b[0;34m.\u001b[0m\u001b[0mraw_decode\u001b[0m\u001b[0;34m(\u001b[0m\u001b[0ms\u001b[0m\u001b[0;34m,\u001b[0m \u001b[0midx\u001b[0m\u001b[0;34m=\u001b[0m\u001b[0m_w\u001b[0m\u001b[0;34m(\u001b[0m\u001b[0ms\u001b[0m\u001b[0;34m,\u001b[0m \u001b[0;36m0\u001b[0m\u001b[0;34m)\u001b[0m\u001b[0;34m.\u001b[0m\u001b[0mend\u001b[0m\u001b[0;34m(\u001b[0m\u001b[0;34m)\u001b[0m\u001b[0;34m)\u001b[0m\u001b[0;34m\u001b[0m\u001b[0;34m\u001b[0m\u001b[0m\n\u001b[0m\u001b[1;32m    338\u001b[0m         \u001b[0mend\u001b[0m \u001b[0;34m=\u001b[0m \u001b[0m_w\u001b[0m\u001b[0;34m(\u001b[0m\u001b[0ms\u001b[0m\u001b[0;34m,\u001b[0m \u001b[0mend\u001b[0m\u001b[0;34m)\u001b[0m\u001b[0;34m.\u001b[0m\u001b[0mend\u001b[0m\u001b[0;34m(\u001b[0m\u001b[0;34m)\u001b[0m\u001b[0;34m\u001b[0m\u001b[0;34m\u001b[0m\u001b[0m\n\u001b[1;32m    339\u001b[0m         \u001b[0;32mif\u001b[0m \u001b[0mend\u001b[0m \u001b[0;34m!=\u001b[0m \u001b[0mlen\u001b[0m\u001b[0;34m(\u001b[0m\u001b[0ms\u001b[0m\u001b[0;34m)\u001b[0m\u001b[0;34m:\u001b[0m\u001b[0;34m\u001b[0m\u001b[0;34m\u001b[0m\u001b[0m\n",
      "\u001b[0;32m~/anaconda3/lib/python3.9/json/decoder.py\u001b[0m in \u001b[0;36mraw_decode\u001b[0;34m(self, s, idx)\u001b[0m\n\u001b[1;32m    353\u001b[0m             \u001b[0mobj\u001b[0m\u001b[0;34m,\u001b[0m \u001b[0mend\u001b[0m \u001b[0;34m=\u001b[0m \u001b[0mself\u001b[0m\u001b[0;34m.\u001b[0m\u001b[0mscan_once\u001b[0m\u001b[0;34m(\u001b[0m\u001b[0ms\u001b[0m\u001b[0;34m,\u001b[0m \u001b[0midx\u001b[0m\u001b[0;34m)\u001b[0m\u001b[0;34m\u001b[0m\u001b[0;34m\u001b[0m\u001b[0m\n\u001b[1;32m    354\u001b[0m         \u001b[0;32mexcept\u001b[0m \u001b[0mStopIteration\u001b[0m \u001b[0;32mas\u001b[0m \u001b[0merr\u001b[0m\u001b[0;34m:\u001b[0m\u001b[0;34m\u001b[0m\u001b[0;34m\u001b[0m\u001b[0m\n\u001b[0;32m--> 355\u001b[0;31m             \u001b[0;32mraise\u001b[0m \u001b[0mJSONDecodeError\u001b[0m\u001b[0;34m(\u001b[0m\u001b[0;34m\"Expecting value\"\u001b[0m\u001b[0;34m,\u001b[0m \u001b[0ms\u001b[0m\u001b[0;34m,\u001b[0m \u001b[0merr\u001b[0m\u001b[0;34m.\u001b[0m\u001b[0mvalue\u001b[0m\u001b[0;34m)\u001b[0m \u001b[0;32mfrom\u001b[0m \u001b[0;32mNone\u001b[0m\u001b[0;34m\u001b[0m\u001b[0;34m\u001b[0m\u001b[0m\n\u001b[0m\u001b[1;32m    356\u001b[0m         \u001b[0;32mreturn\u001b[0m \u001b[0mobj\u001b[0m\u001b[0;34m,\u001b[0m \u001b[0mend\u001b[0m\u001b[0;34m\u001b[0m\u001b[0;34m\u001b[0m\u001b[0m\n",
      "\u001b[0;31mJSONDecodeError\u001b[0m: Expecting value: line 1 column 1 (char 0)"
     ]
    }
   ],
   "source": [
    "a=''\n",
    "json.loads(a)"
   ]
  },
  {
   "cell_type": "code",
   "execution_count": 2,
   "id": "1b1cda67",
   "metadata": {},
   "outputs": [],
   "source": [
    "def load_data(filename):\n",
    "    ip_list=[]\n",
    "    with open(filename,'r') as f:\n",
    "        ip_list=f.readlines()\n",
    "    return [i.strip() for i in ip_list]\n"
   ]
  },
  {
   "cell_type": "code",
   "execution_count": 5,
   "id": "ec7a496e",
   "metadata": {},
   "outputs": [
    {
     "name": "stdout",
     "output_type": "stream",
     "text": [
      "/home/nly/DNS/CZDS/adns_depend/script\n"
     ]
    }
   ],
   "source": [
    "import os\n",
    "current_directory = os.getcwd()\n",
    "print(current_directory)\n"
   ]
  },
  {
   "cell_type": "code",
   "execution_count": 7,
   "id": "24e6ec68",
   "metadata": {},
   "outputs": [
    {
     "data": {
      "text/plain": [
       "['199.7.83.42']"
      ]
     },
     "execution_count": 7,
     "metadata": {},
     "output_type": "execute_result"
    }
   ],
   "source": [
    "root_nsip = load_data(os.getcwd() + \"/root_nsip_test\")\n",
    "root_nsip"
   ]
  },
  {
   "cell_type": "code",
   "execution_count": 8,
   "id": "70c89b6e",
   "metadata": {},
   "outputs": [
    {
     "data": {
      "text/plain": [
       "True"
      ]
     },
     "execution_count": 8,
     "metadata": {},
     "output_type": "execute_result"
    }
   ],
   "source": [
    "a=''\n",
    "not a"
   ]
  },
  {
   "cell_type": "code",
   "execution_count": null,
   "id": "b8338ef7",
   "metadata": {},
   "outputs": [],
   "source": [
    "\n",
    "\n",
    "root_nsip = load_data(os.getcwd() + \"/root_nsip_test\")\n",
    "\n",
    "CACHE =\n",
    "\n",
    "def alookup(domain，server_ip):\n",
    "    \n",
    "    if CACHE[domain]:\n",
    "        return CACHE[domain]\n",
    "\n",
    "    cur='' \n",
    "    cur_nsip=''#一开始没有ns，等着分配root\n",
    "    \n",
    "    labels = domain.split('.')\n",
    "    \n",
    "        for cur_label in labels[::-1]:\n",
    "            cur = cur_label + cur # net\n",
    "        \n",
    "            #判断是不是从根开始查询\n",
    "            if not cur_nsip:\n",
    "                cur_nsip=alookup()\n",
    "        \n",
    "    return a_answer\n",
    "\n",
    "\n",
    "for cur_root in root_nsip: #有13个ipv4，13个ipv6，后续需要分开成两个输出文件夹？对，目前先完善v4的查询\n"
   ]
  },
  {
   "cell_type": "code",
   "execution_count": 10,
   "id": "f8db28b4",
   "metadata": {},
   "outputs": [],
   "source": [
    "def run_zdns_cmd(cmd):\n",
    "    retry_count = 1\n",
    "    max_retries = 3\n",
    "    \n",
    "    while retry_count < max_retries:\n",
    "        process = subprocess.Popen(cmd, stdout=subprocess.PIPE, stderr=subprocess.PIPE, shell=True)\n",
    "        output, error = process.communicate()\n",
    "        output_decoded = output.decode('utf-8')\n",
    "        if 'TIMEOUT' not in output_decoded:\n",
    "            break\n",
    "        retry_count += 1\n",
    "        time.sleep(5)\n",
    "    return output_decoded, error.decode('utf-8')"
   ]
  },
  {
   "cell_type": "markdown",
   "id": "ce4f5698",
   "metadata": {},
   "source": [
    "{\n",
    "  \"data\": {\n",
    "    \"answers\": [\n",
    "      {\n",
    "        \"answer\": \"www.cernet.edu.\",\n",
    "        \"class\": \"IN\",\n",
    "        \"name\": \"www.cernet.net\",\n",
    "        \"ttl\": 172800,\n",
    "        \"type\": \"CNAME\"\n",
    "      }\n",
    "    ],\n",
    "    \"protocol\": \"udp\",\n",
    "    \"resolver\": \"202.38.109.35:53\"\n",
    "  },\n",
    "  \"name\": \"www.cernet.net\",\n",
    "  \"status\": \"NOERROR\",\n",
    "  \"timestamp\": \"2024-07-30T17:32:17+08:00\"\n",
    "}"
   ]
  },
  {
   "cell_type": "markdown",
   "id": "a33f11f6",
   "metadata": {},
   "source": [
    "{\n",
    "  \"data\": {\n",
    "    \"additionals\": [\n",
    "      {\n",
    "        \"answer\": \"194.169.218.54\",\n",
    "        \"class\": \"IN\",\n",
    "        \"name\": \"a.nic.online\",\n",
    "        \"ttl\": 172800,\n",
    "        \"type\": \"A\"\n",
    "      },\n",
    "      {\n",
    "        \"answer\": \"185.24.64.54\",\n",
    "        \"class\": \"IN\",\n",
    "        \"name\": \"b.nic.online\",\n",
    "        \"ttl\": 172800,\n",
    "        \"type\": \"A\"\n",
    "      },\n",
    "      {\n",
    "        \"answer\": \"212.18.248.54\",\n",
    "        \"class\": \"IN\",\n",
    "        \"name\": \"e.nic.online\",\n",
    "        \"ttl\": 172800,\n",
    "        \"type\": \"A\"\n",
    "      },\n",
    "      {\n",
    "        \"answer\": \"212.18.249.54\",\n",
    "        \"class\": \"IN\",\n",
    "        \"name\": \"f.nic.online\",\n",
    "        \"ttl\": 172800,\n",
    "        \"type\": \"A\"\n",
    "      },\n",
    "      {\n",
    "        \"answer\": \"2001:67c:13cc::1:54\",\n",
    "        \"class\": \"IN\",\n",
    "        \"name\": \"a.nic.online\",\n",
    "        \"ttl\": 172800,\n",
    "        \"type\": \"AAAA\"\n",
    "      },\n",
    "      {\n",
    "        \"answer\": \"2a04:2b00:13cc::1:54\",\n",
    "        \"class\": \"IN\",\n",
    "        \"name\": \"b.nic.online\",\n",
    "        \"ttl\": 172800,\n",
    "        \"type\": \"AAAA\"\n",
    "      },\n",
    "      {\n",
    "        \"answer\": \"2a04:2b00:13ee::54\",\n",
    "        \"class\": \"IN\",\n",
    "        \"name\": \"e.nic.online\",\n",
    "        \"ttl\": 172800,\n",
    "        \"type\": \"AAAA\"\n",
    "      },\n",
    "      {\n",
    "        \"answer\": \"2a04:2b00:13ff::54\",\n",
    "        \"class\": \"IN\",\n",
    "        \"name\": \"f.nic.online\",\n",
    "        \"ttl\": 172800,\n",
    "        \"type\": \"AAAA\"\n",
    "      },\n",
    "      {\n",
    "        \"flags\": \"\",\n",
    "        \"type\": \"EDNS0\",\n",
    "        \"udpsize\": 1232,\n",
    "        \"version\": 0\n",
    "      }\n",
    "    ],\n",
    "    \"authorities\": [\n",
    "      {\n",
    "        \"answer\": \"f.nic.online.\",\n",
    "        \"class\": \"IN\",\n",
    "        \"name\": \"online\",\n",
    "        \"ttl\": 172800,\n",
    "        \"type\": \"NS\"\n",
    "      },\n",
    "      {\n",
    "        \"answer\": \"a.nic.online.\",\n",
    "        \"class\": \"IN\",\n",
    "        \"name\": \"online\",\n",
    "        \"ttl\": 172800,\n",
    "        \"type\": \"NS\"\n",
    "      },\n",
    "      {\n",
    "        \"answer\": \"e.nic.online.\",\n",
    "        \"class\": \"IN\",\n",
    "        \"name\": \"online\",\n",
    "        \"ttl\": 172800,\n",
    "        \"type\": \"NS\"\n",
    "      },\n",
    "      {\n",
    "        \"answer\": \"b.nic.online.\",\n",
    "        \"class\": \"IN\",\n",
    "        \"name\": \"online\",\n",
    "        \"ttl\": 172800,\n",
    "        \"type\": \"NS\"\n",
    "      }\n",
    "    ],\n",
    "    \"protocol\": \"udp\",\n",
    "    \"resolver\": \"192.58.128.30:53\"\n",
    "  },\n",
    "  \"name\": \"1.unique.001.uniquefortest.online\",\n",
    "  \"status\": \"NOERROR\",\n",
    "  \"timestamp\": \"2024-07-30T17:27:04+08:00\"\n",
    "}"
   ]
  },
  {
   "cell_type": "code",
   "execution_count": null,
   "id": "de0ae7ef",
   "metadata": {},
   "outputs": [],
   "source": [
    "\n",
    "\n",
    "root_nsip = load_data(os.getcwd() + \"/root_nsip_test\")\n",
    "\n",
    "CACHE =\n",
    "\n",
    "def alookup(domain，server_ip):\n",
    "    \n",
    "    if CACHE[domain]:\n",
    "        return CACHE[domain]\n",
    "\n",
    "    cmd = f'echo {domain} | zdns A --name-servers={server_ip}'\n",
    "    recv_raw, err = run_zdns_cmd(cmd)\n",
    "    \n",
    "    # if 没有answers 在 data中，说明没拿到最后的A回答，但是可以看看有没有 \"additionals\" 和 \"authorities\"\n",
    "    recv_dict = json.loads(recv_raw.strip())\n",
    "    \n",
    "    #现在得到回答的字典了，从中提取所有adns和adnsip（ns,nsip）,循环遍历\n",
    "    \n",
    "    \n",
    "    # 如果没有任何(ns,nsip)，则提取出来ns，对ns进一步查询A记录，然后获取nsip  \n",
    "        \n",
    "        \n",
    "    return a_answer\n",
    "\n",
    "\n",
    "for cur_root in root_nsip: #有13个ipv4，13个ipv6，后续需要分开成两个输出文件夹？对，目前先完善v4的查询\n"
   ]
  },
  {
   "cell_type": "markdown",
   "id": "00ddecef",
   "metadata": {},
   "source": [
    "# 将已有的json输出转变为txt\n",
    "\n",
    "path = '/home/nly/DNS/adns_depend/output/error/20240815'\n",
    "\n",
    "读取这个path下的所有文件（文件命名格式是/home/nly/DNS/adns_depend/output/adns_path/20240815/20240815-155528_www.lamoda.ru_allpaths.json）。筛选出前缀小于等于20240815-155528的文件。用json格式读取，然后不修改文件名称，将文件内容输出变为\n",
    "\n",
    "        with open(f\"{OUTPUT_DIR}{DATETIME}_{query_domain}_allpaths.json\", 'w') as f:\n",
    "            for path in all_paths:\n",
    "                f.write(str(path) + '\\n')\n",
    "                \n",
    "  "
   ]
  },
  {
   "cell_type": "raw",
   "id": "d2aedc49",
   "metadata": {},
   "source": [
    "import os\n",
    "import json\n",
    "from datetime import datetime\n",
    "\n",
    "# 输入路径\n",
    "input_path = '/home/nly/DNS/adns_depend/output/adns_path/20240815'\n",
    "# 输出路径\n",
    "output_path = '/home/nly/DNS/adns_depend/output/adns_path/20240815-temp'\n",
    "# 指定的日期时间\n",
    "specified_datetime = '20240815-155528'\n",
    "\n",
    "# 遍历输入路径下的所有文件\n",
    "for filename in os.listdir(input_path):\n",
    "    # 提取文件前缀\n",
    "    file_prefix = filename.split('_')[0]\n",
    "    \n",
    "    # 筛选前缀小于等于指定日期时间的文件\n",
    "    if file_prefix <= specified_datetime:\n",
    "        # 构建完整的文件路径\n",
    "        file_path = os.path.join(input_path, filename)\n",
    "        \n",
    "        # 读取 JSON 文件内容\n",
    "        with open(file_path, 'r') as f:\n",
    "            data = json.load(f)\n",
    "        \n",
    "        # 提取 query_domain 和 all_paths\n",
    "        query_domain = filename.split('_')[1]\n",
    "        all_paths = data\n",
    "        \n",
    "        # 输出文件路径\n",
    "        output_file = os.path.join(output_path, f\"{file_prefix}_{query_domain}_allpaths.json\")\n",
    "        \n",
    "        # 按指定格式写入文件\n",
    "        with open(output_file, 'w') as f:\n",
    "            for path in all_paths:\n",
    "                f.write(str(path) + '\\n')\n",
    "\n",
    "print(\"文件处理完成。\")\n"
   ]
  },
  {
   "cell_type": "code",
   "execution_count": null,
   "id": "bcca24da",
   "metadata": {},
   "outputs": [],
   "source": []
  },
  {
   "cell_type": "markdown",
   "id": "fc41a543",
   "metadata": {},
   "source": [
    "#  数据结构"
   ]
  },
  {
   "cell_type": "markdown",
   "id": "1088f1f0",
   "metadata": {},
   "source": [
    "构建一个图，图里的边有2种（glue_edge,glueless_edge），图节点有多个属性值(name, ip, query_domain, glueless)。\n",
    "案例（可以结合我给你的图片一起看，glueless_edge是红色的箭头，其他黑色箭头是glue_edge）：\n",
    "现在query_domain=f：\n",
    "节点1的name属性为r，ip为1.1，query_domain为f，其他属性值还有 glueless为False；它的边（指向下一个或者多个节点）有glue_egde=[节点2]（list里的值不是int，这里只是示意，是否可以用指针或者引用来实现？）,glueless_edge=[]。\n",
    "节点2,name=a，ip为1.2，query_domain为f（因为是由节点1的glue_edge指过来的，所以这里的query_domain仍然是f）, glueless为False，glue_egde=[节点3],glueless_edge=[]。\n",
    "节点3,name=b，ip为1.3，query_domain为f, glueless为True，glue_egde=[节点7],glueless_edge=[节点4]。\n",
    "节点4,name=r，ip为1.1，query_domain为b（因为是由节点3的glueless_edge指过来的，所以这里的query_domain变为b，这个query_domain的改变可以通过传参实现）, glueless为False，glue_egde=[节点5],glueless_edge=[]。\n",
    "节点5,name=c，ip为1.4，query_domain为b, glueless为False，glue_egde=[节点6],glueless_edge=[]。\n",
    "节点6,name=d，ip为1.5，query_domain为b, glueless为False，glue_egde=[],glueless_edge=[]。\n",
    "节点7,name=f，ip为1.6，query_domain为f, glueless为False，glue_egde=[],glueless_edge=[]。\n",
    "\n",
    "需要注意的是，虽然有两个节点的 name属性值一样，但是他们连接的下一个边不一样，请想办法构建好这个数据结构，使得每个节点可以唯一标识（实际上（name，ip，query_domain）这个属性三元组可以唯一确定一个图中的节点）。\n",
    "\n",
    "请给我python3版本的数据结构"
   ]
  },
  {
   "cell_type": "code",
   "execution_count": 13,
   "id": "efa4b122",
   "metadata": {},
   "outputs": [
    {
     "name": "stdout",
     "output_type": "stream",
     "text": [
      "Graph({('r', '1.1', 'f'): Node(r, 1.1, f, False), ('a', '1.2', 'f'): Node(a, 1.2, f, False), ('b', '1.3', 'f'): Node(b, 1.3, f, True), ('r', '1.1', 'b'): Node(r, 1.1, b, False), ('c', '1.4', 'b'): Node(c, 1.4, b, False), ('d', '1.5', 'b'): Node(d, 1.5, b, False), ('f', '1.6', 'f'): Node(f, 1.6, f, False)})\n"
     ]
    }
   ],
   "source": [
    "class Node:\n",
    "    def __init__(self, name, ip, query_domain, glueless):\n",
    "        self.name = name\n",
    "        self.ip = ip\n",
    "        self.query_domain = query_domain\n",
    "        self.glueless = glueless\n",
    "        self.glue_edges = []\n",
    "        self.glueless_edges = []\n",
    "\n",
    "    def add_glue_edge(self, node):\n",
    "        self.glue_edges.append(node)\n",
    "\n",
    "    def add_glueless_edge(self, node):\n",
    "        self.glueless_edges.append(node)\n",
    "\n",
    "    def __repr__(self):\n",
    "        return f\"Node({self.name}, {self.ip}, {self.query_domain}, {self.glueless})\"\n",
    "\n",
    "\n",
    "class Graph:\n",
    "    def __init__(self):\n",
    "        self.nodes = {}\n",
    "\n",
    "    def add_node(self, name, ip, query_domain, glueless):\n",
    "        node_key = (name, ip, query_domain)\n",
    "        if node_key not in self.nodes:\n",
    "            self.nodes[node_key] = Node(name, ip, query_domain, glueless)\n",
    "        return self.nodes[node_key]\n",
    "\n",
    "    def add_edge(self, from_node_key, to_node_key, edge_type):\n",
    "        from_node = self.nodes[from_node_key]\n",
    "        to_node = self.nodes[to_node_key]\n",
    "        if edge_type == 'glue':\n",
    "            from_node.add_glue_edge(to_node)\n",
    "        elif edge_type == 'glueless':\n",
    "            from_node.add_glueless_edge(to_node)\n",
    "\n",
    "    def __repr__(self):\n",
    "        return f\"Graph({self.nodes})\"\n",
    "\n",
    "\n",
    "# 构建图\n",
    "graph = Graph()\n",
    "\n",
    "# 添加节点\n",
    "node1 = graph.add_node('r', '1.1', 'f', False)\n",
    "node2 = graph.add_node('a', '1.2', 'f', False)\n",
    "node3 = graph.add_node('b', '1.3', 'f', True)\n",
    "node4 = graph.add_node('r', '1.1', 'b', False)\n",
    "node5 = graph.add_node('c', '1.4', 'b', False)\n",
    "node6 = graph.add_node('d', '1.5', 'b', False)\n",
    "node7 = graph.add_node('f', '1.6', 'f', False)\n",
    "\n",
    "# 添加边\n",
    "graph.add_edge(('r', '1.1', 'f'), ('a', '1.2', 'f'), 'glue')\n",
    "graph.add_edge(('a', '1.2', 'f'), ('b', '1.3', 'f'), 'glue')\n",
    "graph.add_edge(('b', '1.3', 'f'), ('f', '1.6', 'f'), 'glue')\n",
    "graph.add_edge(('b', '1.3', 'f'), ('r', '1.1', 'b'), 'glueless')\n",
    "graph.add_edge(('r', '1.1', 'b'), ('c', '1.4', 'b'), 'glue')\n",
    "graph.add_edge(('c', '1.4', 'b'), ('d', '1.5', 'b'), 'glue')\n",
    "\n",
    "# 打印图\n",
    "print(graph)\n"
   ]
  },
  {
   "cell_type": "code",
   "execution_count": 15,
   "id": "2681cdb0",
   "metadata": {},
   "outputs": [
    {
     "name": "stdout",
     "output_type": "stream",
     "text": [
      "[Node(a, 1.2, f, False)]\n"
     ]
    }
   ],
   "source": [
    "pp(graph.nodes[('r', '1.1', 'f')].glue_edges)"
   ]
  },
  {
   "cell_type": "code",
   "execution_count": 21,
   "id": "d73d5441",
   "metadata": {},
   "outputs": [
    {
     "name": "stdout",
     "output_type": "stream",
     "text": [
      "Graph({('r', '1.1', 'f'): Node(r, 1.1, f, False), ('a', '1.2', 'f'): Node(a, 1.2, f, False), ('r', '1.1', 'b'): Node(r, 1.1, b, False), ('c', '1.4', 'b'): Node(c, 1.4, b, False), ('d', '1.5', 'b'): Node(d, 1.5, b, False), ('b', '1.3', 'b'): Node(b, 1.3, b, False), ('b', '1.3', 'f'): Node(b, 1.3, f, True), ('f', '1.6', 'f'): Node(f, 1.6, f, False)})\n"
     ]
    }
   ],
   "source": [
    "class Node:\n",
    "    def __init__(self, name, ip, query_domain, glueless):\n",
    "        self.name = name\n",
    "        self.ip = ip\n",
    "        self.query_domain = query_domain\n",
    "        self.glueless = glueless\n",
    "        self.edges = {'glue': [], 'glueless': []}\n",
    "\n",
    "    def add_edge(self, node, edge_type):\n",
    "        if edge_type in self.edges:\n",
    "            self.edges[edge_type].append(node)\n",
    "\n",
    "    def __repr__(self):\n",
    "        #return f\"Node({self.name}, {self.ip}, {self.query_domain}, {self.glueless}, {self.edges})\"\n",
    "        return f\"Node({self.name}, {self.ip}, {self.query_domain}, {self.glueless})\"\n",
    "    \n",
    "\n",
    "\n",
    "class Graph:\n",
    "    def __init__(self):\n",
    "        self.nodes = {}\n",
    "\n",
    "    def add_node(self, name, ip, query_domain, glueless):\n",
    "        node_key = (name, ip, query_domain)\n",
    "        if node_key not in self.nodes:\n",
    "            self.nodes[node_key] = Node(name, ip, query_domain, glueless)\n",
    "        return self.nodes[node_key]\n",
    "\n",
    "    def add_edge(self, from_node_key, to_node_key, edge_type):\n",
    "        from_node = self.nodes[from_node_key]\n",
    "        to_node = self.nodes[to_node_key]\n",
    "        from_node.add_edge(to_node, edge_type)\n",
    "\n",
    "    def __repr__(self):\n",
    "        return f\"Graph({self.nodes})\"\n",
    "\n",
    "\n",
    "# 构建图\n",
    "graph = Graph()\n",
    "\n",
    "# 添加节点\n",
    "# query_domain = f，从 ns='r',nsip='1.1' 开始迭代查询\n",
    "# 在zdns返回的结果中，发现了additionals里的glue记录(ns='a',nsip='1.2')，记 glueless=False\n",
    "# 使用上述变量添加节点\n",
    "node1 = graph.add_node('r', '1.1', 'f', False)\n",
    "node2 = graph.add_node('a', '1.2', 'f', False)\n",
    "graph.add_edge(('r', '1.1', 'f'), ('a', '1.2', 'f'), 'glue')\n",
    "# query_domain = f，从 ns='a',nsip='1.2' 开始迭代查询\n",
    "# 在zdns返回的结果中，additionals中没有glue记录，记 glueless=True\n",
    "node4 = graph.add_node('r', '1.1', 'b', False)\n",
    "node5 = graph.add_node('c', '1.4', 'b', False)\n",
    "graph.add_edge(('r', '1.1', 'b'), ('c', '1.4', 'b'), 'glue')\n",
    "\n",
    "node6 = graph.add_node('d', '1.5', 'b', False)\n",
    "graph.add_edge(('c', '1.4', 'b'), ('d', '1.5', 'b'), 'glue')\n",
    "\n",
    "node7 = graph.add_node('b', '1.3', 'b', False)\n",
    "graph.add_edge(('d', '1.5', 'b'), ('b', '1.3', 'b'), 'glue')\n",
    "\n",
    "node3 = graph.add_node('b', '1.3', 'f', True)\n",
    "graph.add_edge(('a', '1.2', 'f'), ('b', '1.3', 'f'), 'glue')\n",
    "\n",
    "\n",
    "\n",
    "graph.add_edge(('b', '1.3', 'f'), ('r', '1.1', 'b'), 'glueless')\n",
    "\n",
    "node8 = graph.add_node('f', '1.6', 'f', False)\n",
    "graph.add_edge(('b', '1.3', 'f'), ('f', '1.6', 'f'), 'glue')\n",
    "\n",
    "\n",
    "# 打印图\n",
    "print(graph)\n"
   ]
  },
  {
   "cell_type": "code",
   "execution_count": 22,
   "id": "679813ba",
   "metadata": {},
   "outputs": [
    {
     "data": {
      "text/plain": [
       "{'glue': [Node(a, 1.2, f, False)], 'glueless': []}"
      ]
     },
     "execution_count": 22,
     "metadata": {},
     "output_type": "execute_result"
    }
   ],
   "source": [
    "graph.nodes[('r', '1.1', 'f')].edges"
   ]
  },
  {
   "cell_type": "code",
   "execution_count": 23,
   "id": "35ec6cd6",
   "metadata": {},
   "outputs": [
    {
     "data": {
      "text/plain": [
       "{'glue': [Node(f, 1.6, f, False)], 'glueless': [Node(r, 1.1, b, False)]}"
      ]
     },
     "execution_count": 23,
     "metadata": {},
     "output_type": "execute_result"
    }
   ],
   "source": [
    "node3.edges"
   ]
  },
  {
   "cell_type": "code",
   "execution_count": 24,
   "id": "18b906aa",
   "metadata": {},
   "outputs": [
    {
     "data": {
      "text/plain": [
       "{'glue': [Node(b, 1.3, f, True)], 'glueless': []}"
      ]
     },
     "execution_count": 24,
     "metadata": {},
     "output_type": "execute_result"
    }
   ],
   "source": [
    "node2.edges"
   ]
  },
  {
   "cell_type": "markdown",
   "id": "55d45849",
   "metadata": {},
   "source": [
    "# 无glueless"
   ]
  },
  {
   "cell_type": "code",
   "execution_count": 25,
   "id": "c0ce6159",
   "metadata": {},
   "outputs": [
    {
     "name": "stdout",
     "output_type": "stream",
     "text": [
      "Graph({('r', '1.1', 'f'): Node(r, 1.1, f), ('a', '1.2', 'f'): Node(a, 1.2, f), ('r', '1.1', 'b'): Node(r, 1.1, b), ('c', '1.4', 'b'): Node(c, 1.4, b), ('d', '1.5', 'b'): Node(d, 1.5, b), ('b', '1.3', 'b'): Node(b, 1.3, b), ('b', '1.3', 'f'): Node(b, 1.3, f), ('f', '1.6', 'f'): Node(f, 1.6, f)})\n"
     ]
    }
   ],
   "source": [
    "class Node:\n",
    "    def __init__(self, name, ip, query_domain):\n",
    "        self.name = name\n",
    "        self.ip = ip\n",
    "        self.query_domain = query_domain\n",
    "        self.edges = {'glue': [], 'glueless': []}\n",
    "\n",
    "    def add_edge(self, node, edge_type):\n",
    "        if edge_type in self.edges:\n",
    "            self.edges[edge_type].append(node)\n",
    "\n",
    "    def __repr__(self):\n",
    "        #return f\"Node({self.name}, {self.ip}, {self.query_domain}, {self.glueless}, {self.edges})\"\n",
    "        return f\"Node({self.name}, {self.ip}, {self.query_domain})\"\n",
    "    \n",
    "\n",
    "\n",
    "class Graph:\n",
    "    def __init__(self):\n",
    "        self.nodes = {}\n",
    "\n",
    "    def add_node(self, name, ip, query_domain):\n",
    "        node_key = (name, ip, query_domain)\n",
    "        if node_key not in self.nodes:\n",
    "            self.nodes[node_key] = Node(name, ip, query_domain)\n",
    "        return self.nodes[node_key]\n",
    "\n",
    "    def add_edge(self, from_node_key, to_node_key, edge_type):\n",
    "        from_node = self.nodes[from_node_key]\n",
    "        to_node = self.nodes[to_node_key]\n",
    "        from_node.add_edge(to_node, edge_type)\n",
    "\n",
    "    def __repr__(self):\n",
    "        return f\"Graph({self.nodes})\"\n",
    "\n",
    "\n",
    "# 构建图\n",
    "graph = Graph()\n",
    "\n",
    "# 添加节点\n",
    "\n",
    "# query_domain = f，从 ns='r',nsip='1.1' 开始迭代查询\n",
    "# 在zdns返回的结果中，发现了additionals里的glue记录(ns='a',nsip='1.2')\n",
    "# 使用上述变量添加节点\n",
    "node1 = graph.add_node('r', '1.1', 'f')\n",
    "node2 = graph.add_node('a', '1.2', 'f')\n",
    "# 添加边，连接以上两个节点，关系是glue边\n",
    "graph.add_edge(('r', '1.1', 'f'), ('a', '1.2', 'f'), 'glue')\n",
    "\n",
    "\n",
    "\n",
    "\n",
    "\n",
    "# query_domain = f，从 ns='a',nsip='1.2' 开始迭代查询\n",
    "# 在zdns返回的结果中，additionals中没有glue记录，在authorities中找到了'b'这个ns，需要从根开始，重新开启另一个递归查询。\n",
    "\n",
    "# query_domain = b，从 ns='r',nsip='1.1' 开始迭代查询\n",
    "# 在zdns返回的结果中，发现了additionals里的glue记录(ns='c',nsip='1.4')\n",
    "# 使用上述变量添加节点\n",
    "node4 = graph.add_node('r', '1.1', 'b')\n",
    "node5 = graph.add_node('c', '1.4', 'b')\n",
    "# 添加边，连接以上两个节点，关系是glue边\n",
    "graph.add_edge(('r', '1.1', 'b'), ('c', '1.4', 'b'), 'glue')\n",
    "\n",
    "# query_domain = b，从 ns='c',nsip='1.4' 开始迭代查询\n",
    "# 在zdns返回的结果中，发现了additionals里的glue记录(ns='d',nsip='1.5')\n",
    "# 使用上述变量添加节点\n",
    "node6 = graph.add_node('d', '1.5', 'b')\n",
    "# 添加边，连接以上两个节点，关系是glue边\n",
    "graph.add_edge(('c', '1.4', 'b'), ('d', '1.5', 'b'), 'glue')\n",
    "\n",
    "# query_domain = b，从 ns='d',nsip='1.5' 开始迭代查询\n",
    "# 在zdns返回的结果中，发现了answers里的answer，也就是子递归返回了answer，(ns='b',nsip='1.3')\n",
    "# 使用上述变量添加节点\n",
    "node7 = graph.add_node('b', '1.3', 'b')\n",
    "# 添加边，连接以上两个节点，关系是glue边（实际上不是传统意义上的glue边，但是确实是ns自带的记录，为了数据结构的简化 可以算到这个关系里，识别glue边中的最后一条为answer，不算做adnspath上的实体）\n",
    "graph.add_edge(('d', '1.5', 'b'), ('b', '1.3', 'b'), 'glue')\n",
    "\n",
    "\n",
    "\n",
    "# 跳出子递归，回到ns='b'，利用收到的glue_edge[-1]作为新节点的信息，\n",
    "node3 = graph.add_node('b', '1.3', 'f')\n",
    "graph.add_edge(('a', '1.2', 'f'), ('b', '1.3', 'f'), 'glue')\n",
    "\n",
    "\n",
    "\n",
    "graph.add_edge(('b', '1.3', 'f'), ('r', '1.1', 'b'), 'glueless')\n",
    "\n",
    "node8 = graph.add_node('f', '1.6', 'f')\n",
    "graph.add_edge(('b', '1.3', 'f'), ('f', '1.6', 'f'), 'glue')\n",
    "\n",
    "\n",
    "# 打印图\n",
    "print(graph)\n"
   ]
  },
  {
   "cell_type": "code",
   "execution_count": 26,
   "id": "a140b6ef",
   "metadata": {},
   "outputs": [
    {
     "data": {
      "text/plain": [
       "{'glue': [Node(f, 1.6, f)], 'glueless': [Node(r, 1.1, b)]}"
      ]
     },
     "execution_count": 26,
     "metadata": {},
     "output_type": "execute_result"
    }
   ],
   "source": [
    "node3.edges"
   ]
  },
  {
   "cell_type": "markdown",
   "id": "cdb6aaf5",
   "metadata": {},
   "source": [
    "# 简单一些的图"
   ]
  },
  {
   "cell_type": "code",
   "execution_count": 91,
   "id": "3a2c7f52",
   "metadata": {},
   "outputs": [
    {
     "name": "stdout",
     "output_type": "stream",
     "text": [
      "Graph({('r', '1.1'): Node(r, 1.1), ('a', '1.2'): Node(a, 1.2), ('c', '1.4'): Node(c, 1.4), ('d', '1.5'): Node(d, 1.5), ('b', '1.3'): Node(b, 1.3), ('f', '1.6'): Node(f, 1.6)})\n"
     ]
    }
   ],
   "source": [
    "class Node:\n",
    "    def __init__(self, name, ip):\n",
    "        self.name = name\n",
    "        self.ip = ip\n",
    "        self.edges = {'glue': [], 'glueless': []}\n",
    "\n",
    "    def add_edge(self, node, edge_type):\n",
    "        if edge_type in self.edges:\n",
    "            self.edges[edge_type].append(node)\n",
    "\n",
    "    def __repr__(self):\n",
    "        #return f\"Node({self.name}, {self.ip}, {self.query_domain}, {self.glueless}, {self.edges})\"\n",
    "        return f\"Node({self.name}, {self.ip})\"\n",
    "    \n",
    "\n",
    "\n",
    "class Graph:\n",
    "    def __init__(self):\n",
    "        self.nodes = {}\n",
    "\n",
    "    def add_node(self, name, ip):\n",
    "        node_key = (name, ip)\n",
    "        if node_key not in self.nodes:\n",
    "            self.nodes[node_key] = Node(name, ip)\n",
    "        return self.nodes[node_key]\n",
    "\n",
    "    def add_edge(self, from_node_key, to_node_key, edge_type):\n",
    "        from_node = self.nodes[from_node_key]\n",
    "        to_node = self.nodes[to_node_key]\n",
    "        from_node.add_edge(to_node, edge_type)\n",
    "\n",
    "    def __repr__(self):\n",
    "        return f\"Graph({self.nodes})\"\n",
    "\n",
    "# 构建图\n",
    "graph = Graph()\n",
    "\n",
    "# 添加节点\n",
    "\n",
    "# query_domain = f，从 ns='r',nsip='1.1' 开始迭代查询\n",
    "# 在zdns返回的结果中，发现了additionals里的glue记录(ns='a',nsip='1.2')\n",
    "# 使用上述变量添加节点\n",
    "node1 = graph.add_node('r', '1.1')\n",
    "node2 = graph.add_node('a', '1.2')\n",
    "# 添加边，连接以上两个节点，关系是glue边\n",
    "graph.add_edge(('r', '1.1'), ('a', '1.2'), 'glue')\n",
    "\n",
    "\n",
    "\n",
    "\n",
    "\n",
    "# query_domain = f，从 ns='a',nsip='1.2' 开始迭代查询\n",
    "# 在zdns返回的结果中，additionals中没有glue记录，在authorities中找到了'b'这个ns，需要从根开始，重新开启另一个递归查询。\n",
    "\n",
    "# query_domain = b，从 ns='r',nsip='1.1' 开始迭代查询\n",
    "# 在zdns返回的结果中，发现了additionals里的glue记录(ns='c',nsip='1.4')\n",
    "# 使用上述变量添加节点\n",
    "node4 = graph.add_node('c', '1.4')\n",
    "# 添加边，连接以上两个节点，关系是glue边\n",
    "graph.add_edge(('r', '1.1'), ('c', '1.4'), 'glue')\n",
    "\n",
    "# query_domain = b，从 ns='c',nsip='1.4' 开始迭代查询\n",
    "# 在zdns返回的结果中，发现了additionals里的glue记录(ns='d',nsip='1.5')\n",
    "# 使用上述变量添加节点\n",
    "node5 = graph.add_node('d', '1.5')\n",
    "# 添加边，连接以上两个节点，关系是glue边\n",
    "graph.add_edge(('c', '1.4'), ('d', '1.5'), 'glue')\n",
    "\n",
    "# query_domain = b，从 ns='d',nsip='1.5' 开始迭代查询\n",
    "# 在zdns返回的结果中，发现了answers里的answer，也就是子递归返回了answer，(ns='b',nsip='1.3')\n",
    "# 使用上述变量添加节点\n",
    "node6 = graph.add_node('b', '1.3')\n",
    "# 添加边，连接以上两个节点，关系是glue边（实际上不是传统意义上的glue边，但是确实是ns自带的记录，为了数据结构的简化 可以算到这个关系里，识别glue边中的最后一条为answer，不算做adnspath上的实体）\n",
    "graph.add_edge(('d', '1.5'), ('b', '1.3'), 'glue')\n",
    "\n",
    "\n",
    "\n",
    "# 跳出子递归，回到ns='b'，利用收到的glue_edge[-1]作为新节点的信息，\n",
    "node3 = graph.add_node('b', '1.3')\n",
    "graph.add_edge(('a', '1.2'), ('b', '1.3'), 'glueless')\n",
    "graph.add_edge(('b', '1.3'), ('r','1.1'), 'glue')\n",
    "\n",
    "\n",
    "\n",
    "node7 = graph.add_node('f', '1.6')\n",
    "graph.add_edge(('b', '1.3'), ('f', '1.6'), 'glue')\n",
    "\n",
    "\n",
    "# 打印图\n",
    "print(graph)"
   ]
  },
  {
   "cell_type": "code",
   "execution_count": 92,
   "id": "80ea2c1e",
   "metadata": {},
   "outputs": [
    {
     "data": {
      "image/png": "[encoded data removed]",
      "text/plain": [
       "<Figure size 432x288 with 1 Axes>"
      ]
     },
     "metadata": {
      "image/png": {
       "height": 245,
       "width": 349
      }
     },
     "output_type": "display_data"
    }
   ],
   "source": [
    "import matplotlib.pyplot as plt\n",
    "import networkx as nx\n",
    "\n",
    "def visualize_graph(graph):\n",
    "    G = nx.DiGraph()\n",
    "    \n",
    "    # Add nodes to the graph\n",
    "    for node_key, node in graph.nodes.items():\n",
    "        G.add_node(node_key, label=node.name)\n",
    "    \n",
    "    # Add edges to the graph\n",
    "    for node_key, node in graph.nodes.items():\n",
    "        for edge_type, edges in node.edges.items():\n",
    "            for target_node in edges:\n",
    "                if edge_type == 'glue':\n",
    "                    G.add_edge(node_key, (target_node.name, target_node.ip), style='solid')\n",
    "                elif edge_type == 'glueless':\n",
    "                    G.add_edge(node_key, (target_node.name, target_node.ip), style='dashed')\n",
    "    \n",
    "    pos = nx.spring_layout(G)  # positions for all nodes\n",
    "    \n",
    "    # Draw nodes\n",
    "    nx.draw_networkx_nodes(G, pos, node_size=700)\n",
    "    \n",
    "    # Draw node labels\n",
    "    nx.draw_networkx_labels(G, pos, font_size=12, font_family='sans-serif')\n",
    "    \n",
    "    # Draw edges\n",
    "    solid_edges = [(u, v) for u, v, d in G.edges(data=True) if d['style'] == 'solid']\n",
    "    dashed_edges = [(u, v) for u, v, d in G.edges(data=True) if d['style'] == 'dashed']\n",
    "    \n",
    "    nx.draw_networkx_edges(G, pos, edgelist=solid_edges, arrowstyle='-|>', arrowsize=20, edge_color='black')\n",
    "    nx.draw_networkx_edges(G, pos, edgelist=dashed_edges, arrowstyle='-|>', arrowsize=20, edge_color='black', style='dashed')\n",
    "    \n",
    "    # Remove or comment out the following line to remove edge labels\n",
    "    # edge_labels = { (u, v): d['style'] for u, v, d in G.edges(data=True) }\n",
    "    # nx.draw_networkx_edge_labels(G, pos, edge_labels=edge_labels)    \n",
    "    # Draw edge labels\n",
    "    edge_labels = { (u, v): d['style'] for u, v, d in G.edges(data=True) }\n",
    "    nx.draw_networkx_edge_labels(G, pos, edge_labels=edge_labels)\n",
    "    \n",
    "    plt.title(\"Graph Visualization\")\n",
    "    plt.show()\n",
    "\n",
    "# 调用函数来可视化图\n",
    "visualize_graph(graph)\n"
   ]
  },
  {
   "cell_type": "code",
   "execution_count": 93,
   "id": "1ca5e646",
   "metadata": {},
   "outputs": [
    {
     "data": {
      "image/png": "[encoded data removed]",
      "text/plain": [
       "<Figure size 432x288 with 1 Axes>"
      ]
     },
     "metadata": {
      "image/png": {
       "height": 245,
       "width": 349
      }
     },
     "output_type": "display_data"
    }
   ],
   "source": [
    "import matplotlib.pyplot as plt\n",
    "import networkx as nx\n",
    "\n",
    "def visualize_graph(graph):\n",
    "    G = nx.DiGraph()\n",
    "    \n",
    "    # Add nodes to the graph\n",
    "    for node_key, node in graph.nodes.items():\n",
    "        G.add_node(node_key, label=node.name)\n",
    "    \n",
    "    # Add edges to the graph\n",
    "    for node_key, node in graph.nodes.items():\n",
    "        for edge_type, edges in node.edges.items():\n",
    "            for target_node in edges:\n",
    "                if edge_type == 'glue':\n",
    "                    G.add_edge(node_key, (target_node.name, target_node.ip), style='solid')\n",
    "                elif edge_type == 'glueless':\n",
    "                    G.add_edge(node_key, (target_node.name, target_node.ip), style='dashed')\n",
    "    \n",
    "    pos = nx.spring_layout(G)  # positions for all nodes\n",
    "    \n",
    "    # Draw nodes\n",
    "    nx.draw_networkx_nodes(G, pos, node_size=700)\n",
    "    \n",
    "    # Draw node labels\n",
    "    nx.draw_networkx_labels(G, pos, font_size=12, font_family='sans-serif')\n",
    "    \n",
    "    # Draw edges\n",
    "    solid_edges = [(u, v) for u, v, d in G.edges(data=True) if d['style'] == 'solid']\n",
    "    dashed_edges = [(u, v) for u, v, d in G.edges(data=True) if d['style'] == 'dashed']\n",
    "    \n",
    "    nx.draw_networkx_edges(G, pos, edgelist=solid_edges, arrowstyle='-|>', arrowsize=20, edge_color='black')\n",
    "    nx.draw_networkx_edges(G, pos, edgelist=dashed_edges, arrowstyle='-|>', arrowsize=20, edge_color='red', style='dashed')\n",
    "    \n",
    "\n",
    "    plt.title(\"Graph Visualization\")\n",
    "    plt.show()\n",
    "\n",
    "# 调用函数来可视化图\n",
    "visualize_graph(graph)\n"
   ]
  },
  {
   "cell_type": "code",
   "execution_count": 94,
   "id": "fdd37754",
   "metadata": {},
   "outputs": [
    {
     "data": {
      "image/png": "[encoded data removed]",
      "text/plain": [
       "<Figure size 432x432 with 1 Axes>"
      ]
     },
     "metadata": {
      "image/png": {
       "height": 354,
       "width": 349
      }
     },
     "output_type": "display_data"
    }
   ],
   "source": [
    "import matplotlib.pyplot as plt\n",
    "import networkx as nx\n",
    "\n",
    "def visualize_graph(graph):\n",
    "    G = nx.DiGraph()\n",
    "    \n",
    "    # Add nodes to the graph\n",
    "    for node_key, node in graph.nodes.items():\n",
    "        G.add_node(node_key, label=node.name)\n",
    "    \n",
    "    # Add edges to the graph\n",
    "    for node_key, node in graph.nodes.items():\n",
    "        for edge_type, edges in node.edges.items():\n",
    "            for target_node in edges:\n",
    "                if edge_type == 'glue':\n",
    "                    G.add_edge(node_key, (target_node.name, target_node.ip), style='solid')\n",
    "                elif edge_type == 'glueless':\n",
    "                    G.add_edge(node_key, (target_node.name, target_node.ip), style='dashed')\n",
    "    \n",
    "    # Adjust figure size\n",
    "    plt.figure(figsize=(6, 6))  # You can adjust the size as needed\n",
    "    \n",
    "    # Use spring layout with additional parameters to optimize layout\n",
    "    pos = nx.kamada_kawai_layout(G)\n",
    "    \n",
    "    # Draw nodes\n",
    "    nx.draw_networkx_nodes(G, pos, node_size=700)\n",
    "    \n",
    "    # Draw node labels\n",
    "    nx.draw_networkx_labels(G, pos, font_size=12, font_family='sans-serif')\n",
    "    \n",
    "    # Draw edges\n",
    "    solid_edges = [(u, v) for u, v, d in G.edges(data=True) if d['style'] == 'solid']\n",
    "    dashed_edges = [(u, v) for u, v, d in G.edges(data=True) if d['style'] == 'dashed']\n",
    "    \n",
    "    nx.draw_networkx_edges(G, pos, edgelist=solid_edges, arrowstyle='-|>', arrowsize=20, edge_color='black')\n",
    "    nx.draw_networkx_edges(G, pos, edgelist=dashed_edges, arrowstyle='-|>', arrowsize=20, edge_color='red', style='dashed')\n",
    "    \n",
    "    plt.title(\"Graph Visualization\")\n",
    "    plt.show()\n",
    "\n",
    "# 调用函数来可视化图\n",
    "visualize_graph(graph)\n"
   ]
  },
  {
   "cell_type": "code",
   "execution_count": 95,
   "id": "532eb5ea",
   "metadata": {},
   "outputs": [
    {
     "data": {
      "image/png": "[encoded data removed]",
      "text/plain": [
       "<Figure size 432x432 with 1 Axes>"
      ]
     },
     "metadata": {
      "image/png": {
       "height": 354,
       "width": 349
      }
     },
     "output_type": "display_data"
    }
   ],
   "source": [
    "#统计每个几点的入向度数和出向度数，使得入向度数为0的节点在画幅的正中间最上方\n",
    "\n",
    "import matplotlib.pyplot as plt\n",
    "import networkx as nx\n",
    "\n",
    "def visualize_graph(graph):\n",
    "    G = nx.DiGraph()\n",
    "    \n",
    "    # Add nodes to the graph\n",
    "    for node_key, node in graph.nodes.items():\n",
    "        G.add_node(node_key, label=node.name)\n",
    "    \n",
    "    # Add edges to the graph\n",
    "    for node_key, node in graph.nodes.items():\n",
    "        for edge_type, edges in node.edges.items():\n",
    "            for target_node in edges:\n",
    "                if edge_type == 'glue':\n",
    "                    G.add_edge(node_key, (target_node.name, target_node.ip), style='solid')\n",
    "                elif edge_type == 'glueless':\n",
    "                    G.add_edge(node_key, (target_node.name, target_node.ip), style='dashed')\n",
    "    \n",
    "    # Get initial positions using kamada_kawai_layout\n",
    "    pos = nx.kamada_kawai_layout(G)\n",
    "    \n",
    "    # Move nodes with zero in-degree to the top center\n",
    "    in_degrees = dict(G.in_degree())\n",
    "    zero_in_degree_nodes = [node for node, degree in in_degrees.items() if degree == 0]\n",
    "    \n",
    "    # Calculate the average x position for centering\n",
    "    avg_x = sum(x for x, y in pos.values()) / len(pos)\n",
    "    \n",
    "    top_center_y = 1.0  # y-coordinate for the top center\n",
    "    \n",
    "    for i, node in enumerate(zero_in_degree_nodes):\n",
    "        pos[node] = (avg_x, top_center_y)\n",
    "        top_center_y -= 0.1  # Adjust the y-coordinate for each subsequent node to avoid overlap\n",
    "    \n",
    "    # Adjust figure size\n",
    "    plt.figure(figsize=(6, 6))\n",
    "    \n",
    "    # Draw nodes\n",
    "    nx.draw_networkx_nodes(G, pos, node_size=100)\n",
    "    \n",
    "    # Draw node labels\n",
    "    nx.draw_networkx_labels(G, pos, font_size=12, font_family='sans-serif')\n",
    "    \n",
    "    # Draw edges\n",
    "    solid_edges = [(u, v) for u, v, d in G.edges(data=True) if d['style'] == 'solid']\n",
    "    dashed_edges = [(u, v) for u, v, d in G.edges(data=True) if d['style'] == 'dashed']\n",
    "    \n",
    "    nx.draw_networkx_edges(G, pos, edgelist=solid_edges, arrowstyle='-|>', arrowsize=20, edge_color='black')\n",
    "    nx.draw_networkx_edges(G, pos, edgelist=dashed_edges, arrowstyle='-|>', arrowsize=20, edge_color='red', style='dashed')\n",
    "    \n",
    "    plt.title(\"Graph Visualization\")\n",
    "    plt.show()\n",
    "\n",
    "# 调用函数来可视化图\n",
    "visualize_graph(graph)\n"
   ]
  },
  {
   "cell_type": "code",
   "execution_count": 96,
   "id": "e2b35bf1",
   "metadata": {},
   "outputs": [
    {
     "data": {
      "image/png": "[encoded data removed]",
      "text/plain": [
       "<Figure size 432x432 with 1 Axes>"
      ]
     },
     "metadata": {
      "image/png": {
       "height": 354,
       "width": 349
      }
     },
     "output_type": "display_data"
    }
   ],
   "source": [
    "import matplotlib.pyplot as plt\n",
    "import networkx as nx\n",
    "\n",
    "def visualize_graph(graph):\n",
    "    G = nx.DiGraph()\n",
    "    \n",
    "    # Add nodes to the graph\n",
    "    for node_key, node in graph.nodes.items():\n",
    "        G.add_node(node_key, label=node.name)\n",
    "    \n",
    "    # Add edges to the graph\n",
    "    for node_key, node in graph.nodes.items():\n",
    "        for edge_type, edges in node.edges.items():\n",
    "            for target_node in edges:\n",
    "                if edge_type == 'glue':\n",
    "                    G.add_edge(node_key, (target_node.name, target_node.ip), style='solid')\n",
    "                elif edge_type == 'glueless':\n",
    "                    G.add_edge(node_key, (target_node.name, target_node.ip), style='dashed')\n",
    "    \n",
    "    # Get initial positions using kamada_kawai_layout\n",
    "    pos = nx.kamada_kawai_layout(G)\n",
    "    \n",
    "    # Move nodes with zero in-degree to the top center\n",
    "    in_degrees = dict(G.in_degree())\n",
    "    out_degrees = dict(G.out_degree())\n",
    "    zero_in_degree_nodes = [node for node, degree in in_degrees.items() if degree == 0]\n",
    "    zero_out_degree_nodes = [node for node, degree in out_degrees.items() if degree == 0]\n",
    "    \n",
    "    # Calculate the average x position for centering\n",
    "    avg_x = sum(x for x, y in pos.values()) / len(pos)\n",
    "    \n",
    "    top_center_y = 1.0  # y-coordinate for the top center\n",
    "    \n",
    "    for i, node in enumerate(zero_in_degree_nodes):\n",
    "        pos[node] = (avg_x, top_center_y)\n",
    "        top_center_y -= 0.1  # Adjust the y-coordinate for each subsequent node to avoid overlap\n",
    "    \n",
    "    # Adjust figure size\n",
    "    plt.figure(figsize=(6, 6))\n",
    "    \n",
    "    # Draw nodes and set colors\n",
    "    node_colors = []\n",
    "    for node in G.nodes():\n",
    "        if node in zero_in_degree_nodes:\n",
    "            node_colors.append('orange')\n",
    "        elif node in zero_out_degree_nodes:\n",
    "            node_colors.append('lime')\n",
    "        else:\n",
    "#             node_colors.append('skyblue')\n",
    "            node_colors.append('blue')\n",
    "            \n",
    "    \n",
    "    nx.draw_networkx_nodes(G, pos, node_size=100, node_color=node_colors)\n",
    "    \n",
    "    # Draw node labels\n",
    "    nx.draw_networkx_labels(G, pos, font_size=16, font_family='sans-serif')\n",
    "    \n",
    "    # Draw edges\n",
    "    solid_edges = [(u, v) for u, v, d in G.edges(data=True) if d['style'] == 'solid']\n",
    "    dashed_edges = [(u, v) for u, v, d in G.edges(data=True) if d['style'] == 'dashed']\n",
    "    \n",
    "    nx.draw_networkx_edges(G, pos, edgelist=solid_edges, arrowstyle='-|>', arrowsize=20, edge_color='black',width=0.5)\n",
    "    nx.draw_networkx_edges(G, pos, edgelist=dashed_edges, arrowstyle='-|>', arrowsize=20, edge_color='red', style='dashed',width=0.5)\n",
    "    \n",
    "    plt.title(\"Graph Visualization\")\n",
    "    plt.show()\n",
    "\n",
    "visualize_graph(graph)\n",
    "    "
   ]
  },
  {
   "cell_type": "code",
   "execution_count": 97,
   "id": "749e1f8c",
   "metadata": {},
   "outputs": [
    {
     "data": {
      "image/png": "[encoded data removed]",
      "text/plain": [
       "<Figure size 504x432 with 1 Axes>"
      ]
     },
     "metadata": {
      "image/png": {
       "height": 340,
       "width": 404
      }
     },
     "output_type": "display_data"
    }
   ],
   "source": [
    "import matplotlib.pyplot as plt\n",
    "import networkx as nx\n",
    "\n",
    "def visualize_graph(graph):\n",
    "    G = nx.DiGraph()\n",
    "    \n",
    "    # Add nodes to the graph\n",
    "    for node_key, node in graph.nodes.items():\n",
    "        G.add_node(node_key, label=node.name)\n",
    "    \n",
    "    # Add edges to the graph\n",
    "    for node_key, node in graph.nodes.items():\n",
    "        for edge_type, edges in node.edges.items():\n",
    "            for target_node in edges:\n",
    "                if edge_type == 'glue':\n",
    "                    G.add_edge(node_key, (target_node.name, target_node.ip), style='solid')\n",
    "                elif edge_type == 'glueless':\n",
    "                    G.add_edge(node_key, (target_node.name, target_node.ip), style='dashed')\n",
    "    \n",
    "    # Get initial positions using kamada_kawai_layout\n",
    "    pos = nx.kamada_kawai_layout(G)\n",
    "    \n",
    "    # Move nodes with zero in-degree to the top center\n",
    "    in_degrees = dict(G.in_degree())\n",
    "    out_degrees = dict(G.out_degree())\n",
    "    zero_in_degree_nodes = [node for node, degree in in_degrees.items() if degree == 0]\n",
    "    zero_out_degree_nodes = [node for node, degree in out_degrees.items() if degree == 0]\n",
    "    \n",
    "    # Calculate the average x position for centering\n",
    "    avg_x = sum(x for x, y in pos.values()) / len(pos)\n",
    "    \n",
    "    top_center_y = 1.0  # y-coordinate for the top center\n",
    "    \n",
    "    for i, node in enumerate(zero_in_degree_nodes):\n",
    "        pos[node] = (avg_x, top_center_y)\n",
    "        top_center_y -= 0.1  # Adjust the y-coordinate for each subsequent node to avoid overlap\n",
    "    \n",
    "    # Adjust figure size\n",
    "    plt.figure(figsize=(7, 6))\n",
    "    \n",
    "    # Draw nodes and set colors\n",
    "    node_colors = []\n",
    "    for node in G.nodes():\n",
    "        if node in zero_in_degree_nodes:\n",
    "            node_colors.append('orange')\n",
    "        elif node in zero_out_degree_nodes:\n",
    "            node_colors.append('lime')\n",
    "        else:\n",
    "            node_colors.append('blue')\n",
    "            \n",
    "    nx.draw_networkx_nodes(G, pos, node_size=100, node_color=node_colors)\n",
    "    \n",
    "    # Draw node labels\n",
    "    nx.draw_networkx_labels(G, pos, font_size=12, font_family='sans-serif')\n",
    "    \n",
    "    # Draw edges\n",
    "    solid_edges = [(u, v) for u, v, d in G.edges(data=True) if d['style'] == 'solid']\n",
    "    dashed_edges = [(u, v) for u, v, d in G.edges(data=True) if d['style'] == 'dashed']\n",
    "    \n",
    "    nx.draw_networkx_edges(G, pos, edgelist=solid_edges, arrowstyle='-|>', arrowsize=20, edge_color='black', width=0.5)\n",
    "    nx.draw_networkx_edges(G, pos, edgelist=dashed_edges, arrowstyle='-|>', arrowsize=20, edge_color='red', style='dashed', width=0.5)\n",
    "    \n",
    "    # Remove the outer border (spines)\n",
    "    ax = plt.gca()\n",
    "    for spine in ax.spines.values():\n",
    "        spine.set_visible(False)\n",
    "    \n",
    "    #plt.title(\"Graph Visualization\")\n",
    "    plt.show()\n",
    "\n",
    "# Assuming 'graph' is defined elsewhere in your code\n",
    "visualize_graph(graph)\n"
   ]
  },
  {
   "cell_type": "markdown",
   "id": "c9585577",
   "metadata": {},
   "source": [
    "# 更详细的展示"
   ]
  },
  {
   "cell_type": "code",
   "execution_count": 87,
   "id": "1031f688",
   "metadata": {},
   "outputs": [
    {
     "name": "stdout",
     "output_type": "stream",
     "text": [
      "Graph({('r', '1.1'): Node(r, 1.1), ('a', '1.2'): Node(a, 1.2), ('c', '1.4'): Node(c, 1.4), ('d', '1.5'): Node(d, 1.5), ('b', '1.3'): Node(b, 1.3), ('f', '1.6'): Node(f, 1.6)})\n"
     ]
    }
   ],
   "source": [
    "class Node:\n",
    "    def __init__(self, name, ip):\n",
    "        self.name = name\n",
    "        self.ip = ip\n",
    "        self.edges = {'glue': [], 'glueless': []}\n",
    "\n",
    "    def add_edge(self, node, edge_type):\n",
    "        if edge_type in self.edges:\n",
    "            self.edges[edge_type].append(node)\n",
    "\n",
    "    def __repr__(self):\n",
    "        #return f\"Node({self.name}, {self.ip}, {self.query_domain}, {self.glueless}, {self.edges})\"\n",
    "        return f\"Node({self.name}, {self.ip})\"\n",
    "    \n",
    "\n",
    "\n",
    "class Graph:\n",
    "    def __init__(self):\n",
    "        self.nodes = {}\n",
    "\n",
    "    def add_node(self, name, ip):\n",
    "        node_key = (name, ip)\n",
    "        if node_key not in self.nodes:\n",
    "            self.nodes[node_key] = Node(name, ip)\n",
    "        return self.nodes[node_key]\n",
    "\n",
    "    def add_edge(self, from_node_key, to_node_key, edge_type):\n",
    "        from_node = self.nodes[from_node_key]\n",
    "        to_node = self.nodes[to_node_key]\n",
    "        from_node.add_edge(to_node, edge_type)\n",
    "\n",
    "    def __repr__(self):\n",
    "        return f\"Graph({self.nodes})\"\n",
    "\n",
    "# 构建图\n",
    "graph = Graph()\n",
    "\n",
    "# 添加节点\n",
    "\n",
    "# query_domain = f，从 ns='r',nsip='1.1' 开始迭代查询\n",
    "# 在zdns返回的结果中，发现了additionals里的glue记录(ns='a',nsip='1.2')\n",
    "# 使用上述变量添加节点\n",
    "node1 = graph.add_node('r', '1.1')\n",
    "node2 = graph.add_node('a', '1.2')\n",
    "# 添加边，连接以上两个节点，关系是glue边\n",
    "graph.add_edge(('r', '1.1'), ('a', '1.2'), 'glue')\n",
    "\n",
    "\n",
    "\n",
    "\n",
    "\n",
    "# query_domain = f，从 ns='a',nsip='1.2' 开始迭代查询\n",
    "# 在zdns返回的结果中，additionals中没有glue记录，在authorities中找到了'b'这个ns，需要从根开始，重新开启另一个递归查询。\n",
    "\n",
    "# query_domain = b，从 ns='r',nsip='1.1' 开始迭代查询\n",
    "# 在zdns返回的结果中，发现了additionals里的glue记录(ns='c',nsip='1.4')\n",
    "# 使用上述变量添加节点\n",
    "node4 = graph.add_node('c', '1.4')\n",
    "# 添加边，连接以上两个节点，关系是glue边\n",
    "graph.add_edge(('r', '1.1'), ('c', '1.4'), 'glue')\n",
    "\n",
    "# query_domain = b，从 ns='c',nsip='1.4' 开始迭代查询\n",
    "# 在zdns返回的结果中，发现了additionals里的glue记录(ns='d',nsip='1.5')\n",
    "# 使用上述变量添加节点\n",
    "node5 = graph.add_node('d', '1.5')\n",
    "# 添加边，连接以上两个节点，关系是glue边\n",
    "graph.add_edge(('c', '1.4'), ('d', '1.5'), 'glue')\n",
    "\n",
    "# query_domain = b，从 ns='d',nsip='1.5' 开始迭代查询\n",
    "# 在zdns返回的结果中，发现了answers里的answer，也就是子递归返回了answer，(ns='b',nsip='1.3')\n",
    "# 使用上述变量添加节点\n",
    "node6 = graph.add_node('b', '1.3')\n",
    "# 添加边，连接以上两个节点，关系是glue边（实际上不是传统意义上的glue边，但是确实是ns自带的记录，为了数据结构的简化 可以算到这个关系里，识别glue边中的最后一条为answer，不算做adnspath上的实体）\n",
    "graph.add_edge(('d', '1.5'), ('b', '1.3'), 'glue')\n",
    "\n",
    "\n",
    "\n",
    "# 跳出子递归，回到ns='b'，利用收到的glue_edge[-1]作为新节点的信息，\n",
    "node3 = graph.add_node('b', '1.3')\n",
    "graph.add_edge(('a', '1.2'), ('b', '1.3'), 'glueless')\n",
    "graph.add_edge(('b', '1.3'), ('r','1.1'), 'glue')\n",
    "\n",
    "\n",
    "\n",
    "node7 = graph.add_node('f', '1.6')\n",
    "graph.add_edge(('b', '1.3'), ('f', '1.6'), 'glue')\n",
    "\n",
    "\n",
    "# 打印图\n",
    "print(graph)"
   ]
  },
  {
   "cell_type": "code",
   "execution_count": null,
   "id": "fc191a49",
   "metadata": {},
   "outputs": [],
   "source": []
  }
 ],
 "metadata": {
  "kernelspec": {
   "display_name": "base",
   "language": "python",
   "name": "base"
  },
  "language_info": {
   "codemirror_mode": {
    "name": "ipython",
    "version": 3
   },
   "file_extension": ".py",
   "mimetype": "text/x-python",
   "name": "python",
   "nbconvert_exporter": "python",
   "pygments_lexer": "ipython3",
   "version": "3.9.7"
  }
 },
 "nbformat": 4,
 "nbformat_minor": 5
}
