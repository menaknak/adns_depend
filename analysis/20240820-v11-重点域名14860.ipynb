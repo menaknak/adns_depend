{
 "cells": [
  {
   "cell_type": "code",
   "execution_count": 74,
   "id": "18abfa6a",
   "metadata": {},
   "outputs": [],
   "source": [
    "import subprocess\n",
    "import json\n",
    "import copy\n",
    "import os\n",
    "import logging\n",
    "from datetime import datetime, timedelta\n",
    "from collections import defaultdict\n",
    "import tldextract\n",
    "import time\n",
    "from tqdm import tqdm\n",
    "import ipaddress\n",
    "import pickle\n",
    "from pprint import pprint as pp\n",
    "\n",
    "def load_data(filename):\n",
    "    if 'txt' in filename or 'csv' in filename or 'json' in  filename:\n",
    "        ip_list=[]\n",
    "        with open(filename,'r') as f:\n",
    "            ip_list=f.readlines()\n",
    "        return [i.strip() for i in ip_list]\n",
    "    else:\n",
    "        with open(filename,'rb') as f:\n",
    "            return pickle.load(f)\n",
    "        \n",
    "def extract_sld(fqdn):\n",
    "    result = tldextract.extract(fqdn)\n",
    "    sld = f\"{result.domain}.{result.suffix}\"\n",
    "    return sld\n",
    "\n",
    "def extract_vendor(fqdn):\n",
    "    result = tldextract.extract(fqdn)\n",
    "    sld = f\"{result.domain}\"\n",
    "    return sld\n",
    "\n",
    "def extract(fqdn,extype):\n",
    "    if extype == 'sld':\n",
    "        return extract_sld(fqdn)\n",
    "    if extype == 'vendor':\n",
    "        return extract_vendor(fqdn)\n",
    "        \n",
    "    \n",
    "    \n",
    "def load_cache(domain):\n",
    "    \"\"\"从文件加载缓存\"\"\"\n",
    "    cache_file = os.path.join(CACHE_DIR, f\"{domain}.cache\")\n",
    "    if os.path.exists(cache_file):\n",
    "        with open(cache_file, 'rb') as f:\n",
    "            return pickle.load(f)\n",
    "    return []\n",
    "\n",
    "def load_cache2txt(domain):\n",
    "    \"\"\"从文件加载缓存，并保存为txt文件\"\"\"\n",
    "    cache_content = load_cache(domain)\n",
    "    txt_dir = os.path.join(CACHE_DIR, \"txt\")\n",
    "    os.makedirs(txt_dir, exist_ok=True)\n",
    "    txt_file = os.path.join(txt_dir, f\"{domain}.txt\")\n",
    "    with open(txt_file, 'w', encoding='utf-8') as f:\n",
    "        for item in cache_content:\n",
    "            f.write(str(item) + '\\n')"
   ]
  },
  {
   "cell_type": "code",
   "execution_count": 33,
   "id": "309fb77e",
   "metadata": {},
   "outputs": [],
   "source": [
    "# INPUTPATH = '/home/nly/DNS/adns_depend/input/tranco1M_gov_edu_test_domain.csv'\n",
    "INPUTPATH = '/home/nly/DNS/adns_depend/input/重点域名14860_20231230.txt'\n",
    "# INPUTPATH = '/home/nly/DNS/adns_depend/input/重点域名6766_20240127_ssl证书-去外企.txt'\n",
    "suf = INPUTPATH.split('/')[-1].split('_')[0]"
   ]
  },
  {
   "cell_type": "code",
   "execution_count": 6,
   "id": "2710d09a",
   "metadata": {},
   "outputs": [],
   "source": [
    "# 配置日志记录\n",
    "DATE = '20240820'\n",
    "\n",
    "LOG_DIR = '/home/nly/DNS/adns_depend/' + \"output/error/\"+suf+\"/\"\n",
    "logging_output_file = f\"{LOG_DIR}{DATE}_logging_unique.txt\"\n",
    "\n",
    "OUTPUT_DIR = '/home/nly/DNS/adns_depend/' + \"output/adns_path/\"+DATE+\"/\"+suf+\"/\"\n",
    "\n",
    "# 文件系统全局缓存路径\n",
    "CACHE_DIR = '/home/nly/DNS/adns_depend/' + \"cache/\"+DATE"
   ]
  },
  {
   "cell_type": "code",
   "execution_count": null,
   "id": "eb0a4ee1",
   "metadata": {},
   "outputs": [],
   "source": [
    "#         with open(f\"{OUTPUT_DIR}{DATETIME}_{query_domain}_allpaths.json\", 'w') as f:\n",
    "#             for path in all_paths:\n",
    "#                 f.write(str(path) + '\\n')"
   ]
  },
  {
   "cell_type": "code",
   "execution_count": 56,
   "id": "fae2cc0e",
   "metadata": {},
   "outputs": [
    {
     "name": "stdout",
     "output_type": "stream",
     "text": [
      "14860 14510\n"
     ]
    }
   ],
   "source": [
    "targets = load_data(INPUTPATH)\n",
    "sld_target_set = set([extract_sld(i) for i in targets])\n",
    "vendor_target_set = set([extract_vendor(i) for i in targets]) \n",
    "\n",
    "print(f'{len(sld_target_set)} {len(vendor_target_set)}')\n",
    "\n",
    "vendor_targetsld_dict = defaultdict(list)\n",
    "\n",
    "for i in sld_target_set:\n",
    "    cur = extract_vendor(i)\n",
    "    vendor_targetsld_dict[cur].append(i)"
   ]
  },
  {
   "cell_type": "markdown",
   "id": "00e7090a",
   "metadata": {},
   "source": [
    "# 日志"
   ]
  },
  {
   "cell_type": "code",
   "execution_count": 16,
   "id": "76a9b921",
   "metadata": {},
   "outputs": [
    {
     "data": {
      "text/plain": [
       "342"
      ]
     },
     "execution_count": 16,
     "metadata": {},
     "output_type": "execute_result"
    }
   ],
   "source": [
    "log_depth = load_data(logging_output_file)\n",
    "\n",
    "log = [i.split(' ',1)[-1].strip() for i in log_depth]\n",
    "log = list(set(log))\n",
    "\n",
    "len(log)"
   ]
  },
  {
   "cell_type": "code",
   "execution_count": 21,
   "id": "a0265ddc",
   "metadata": {},
   "outputs": [],
   "source": [
    "error_domain_dic = defaultdict(set)\n",
    "\n",
    "for i in log:\n",
    "    try:\n",
    "        d, err= i.split(' ',1)\n",
    "    except:\n",
    "        continue\n",
    "    error_domain_dic[err].add(d)"
   ]
  },
  {
   "cell_type": "code",
   "execution_count": 31,
   "id": "8a86febb",
   "metadata": {},
   "outputs": [
    {
     "name": "stdout",
     "output_type": "stream",
     "text": [
      "路径数量超过 1000:\t308\n",
      "循环依赖:\t33\n"
     ]
    }
   ],
   "source": [
    "for err, l in error_domain_dic.items():\n",
    "    print(f'{err}:\\t{len(l)}')"
   ]
  },
  {
   "cell_type": "markdown",
   "id": "87261438",
   "metadata": {},
   "source": [
    "# 循环依赖"
   ]
  },
  {
   "cell_type": "code",
   "execution_count": 25,
   "id": "a68e40c7",
   "metadata": {
    "scrolled": false
   },
   "outputs": [
    {
     "data": {
      "text/plain": [
       "{'dns.bizcn.com',\n",
       " 'dns.cein.gov.cn',\n",
       " 'dns.cnmsn.net',\n",
       " 'dns2.globedom.com',\n",
       " 'dns4.cbcc.cn',\n",
       " 'dns5.ccfccb.cn',\n",
       " 'es.sia.ac.cn',\n",
       " 'ns.acfic.cn',\n",
       " 'ns.biz-email.net',\n",
       " 'ns.bjedu.com.cn',\n",
       " 'ns.cdnhost.cn',\n",
       " 'ns.corp-email.com',\n",
       " 'ns.icann.org',\n",
       " 'ns.ptt.js.cn',\n",
       " 'ns.tpt.net.cn',\n",
       " 'ns1.bee-net.com',\n",
       " 'ns1.china-online.com.cn',\n",
       " 'ns1.corpease.net',\n",
       " 'ns1.totalenergies.net',\n",
       " 'ns1.weber.cloud',\n",
       " 'ns2.east.net',\n",
       " 'ns2.hccb.com.cn',\n",
       " 'ns4.totalenergies.info',\n",
       " 'ns4.webercloud.de',\n",
       " 'ns5.cnmsn.net',\n",
       " 'ns61.ultradns2.com',\n",
       " 'ns61.ultradns2.org',\n",
       " 'ns7.hzbank.net',\n",
       " 'ns8.hzbank.net',\n",
       " 'nsbak.biz-email.net',\n",
       " 'pdns196.ultradns.co.uk',\n",
       " 'pdns196.ultradns.info',\n",
       " 'www.pzhu.edu.cn'}"
      ]
     },
     "execution_count": 25,
     "metadata": {},
     "output_type": "execute_result"
    }
   ],
   "source": [
    "error_domain_dic['循环依赖']"
   ]
  },
  {
   "cell_type": "code",
   "execution_count": 38,
   "id": "ec9807a7",
   "metadata": {},
   "outputs": [
    {
     "name": "stdout",
     "output_type": "stream",
     "text": [
      "33 30 27\n"
     ]
    }
   ],
   "source": [
    "cycle_fqdn = error_domain_dic['循环依赖']\n",
    "cycle_sld = set([extract_sld(i) for i in cycle_fqdn])\n",
    "cycle_vendor = set([extract_vendor(i) for i in cycle_fqdn])\n",
    "print(f'{len(cycle_fqdn)} {len(cycle_sld)} {len(cycle_vendor)}')"
   ]
  },
  {
   "cell_type": "code",
   "execution_count": 39,
   "id": "afa677de",
   "metadata": {},
   "outputs": [
    {
     "data": {
      "text/plain": [
       "{'acfic.cn',\n",
       " 'bee-net.com',\n",
       " 'biz-email.net',\n",
       " 'bizcn.com',\n",
       " 'bjedu.com.cn',\n",
       " 'cbcc.cn',\n",
       " 'cdnhost.cn',\n",
       " 'cein.gov.cn',\n",
       " 'cnmsn.net',\n",
       " 'corpease.net',\n",
       " 'east.net',\n",
       " 'globedom.com',\n",
       " 'hzbank.net',\n",
       " 'icann.org',\n",
       " 'ptt.js.cn',\n",
       " 'totalenergies.info',\n",
       " 'totalenergies.net',\n",
       " 'tpt.net.cn',\n",
       " 'ultradns.co.uk',\n",
       " 'ultradns.info',\n",
       " 'ultradns2.com',\n",
       " 'ultradns2.org',\n",
       " 'weber.cloud',\n",
       " 'webercloud.de'}"
      ]
     },
     "execution_count": 39,
     "metadata": {},
     "output_type": "execute_result"
    }
   ],
   "source": [
    "cycle_sld - sld_target_set"
   ]
  },
  {
   "cell_type": "code",
   "execution_count": 40,
   "id": "37837978",
   "metadata": {},
   "outputs": [
    {
     "data": {
      "text/plain": [
       "{'bee-net',\n",
       " 'biz-email',\n",
       " 'bizcn',\n",
       " 'bjedu',\n",
       " 'cbcc',\n",
       " 'cdnhost',\n",
       " 'cein',\n",
       " 'cnmsn',\n",
       " 'corpease',\n",
       " 'east',\n",
       " 'globedom',\n",
       " 'icann',\n",
       " 'ptt',\n",
       " 'tpt',\n",
       " 'ultradns',\n",
       " 'ultradns2',\n",
       " 'weber',\n",
       " 'webercloud'}"
      ]
     },
     "execution_count": 40,
     "metadata": {},
     "output_type": "execute_result"
    }
   ],
   "source": [
    "cycle_vendor - vendor_target_set"
   ]
  },
  {
   "cell_type": "code",
   "execution_count": 50,
   "id": "164a5c21",
   "metadata": {},
   "outputs": [
    {
     "data": {
      "text/plain": [
       "{'ccfccb.cn',\n",
       " 'china-online.com.cn',\n",
       " 'corp-email.com',\n",
       " 'hccb.com.cn',\n",
       " 'pzhu.edu.cn',\n",
       " 'sia.ac.cn'}"
      ]
     },
     "execution_count": 50,
     "metadata": {},
     "output_type": "execute_result"
    }
   ],
   "source": [
    "chonghe = cycle_sld & sld_target_set\n",
    "chonghe"
   ]
  },
  {
   "cell_type": "code",
   "execution_count": 52,
   "id": "f03c6291",
   "metadata": {},
   "outputs": [
    {
     "data": {
      "text/plain": [
       "defaultdict(list,\n",
       "            {'sia.ac.cn': ['es.sia.ac.cn'],\n",
       "             'china-online.com.cn': ['ns1.china-online.com.cn'],\n",
       "             'corp-email.com': ['ns.corp-email.com'],\n",
       "             'ccfccb.cn': ['dns5.ccfccb.cn'],\n",
       "             'pzhu.edu.cn': ['www.pzhu.edu.cn'],\n",
       "             'hccb.com.cn': ['ns2.hccb.com.cn']})"
      ]
     },
     "execution_count": 52,
     "metadata": {},
     "output_type": "execute_result"
    }
   ],
   "source": [
    "cycle_dict = defaultdict(list)\n",
    "\n",
    "extype = 'sld'\n",
    "\n",
    "for i in cycle_fqdn:\n",
    "    cur = extract(i,extype)\n",
    "    if cur in chonghe:\n",
    "        cycle_dict[cur].append(i)\n",
    "        \n",
    "cycle_dict"
   ]
  },
  {
   "cell_type": "code",
   "execution_count": 53,
   "id": "0e51b07f",
   "metadata": {},
   "outputs": [
    {
     "data": {
      "text/plain": [
       "{'acfic',\n",
       " 'ccfccb',\n",
       " 'china-online',\n",
       " 'corp-email',\n",
       " 'hccb',\n",
       " 'hzbank',\n",
       " 'pzhu',\n",
       " 'sia',\n",
       " 'totalenergies'}"
      ]
     },
     "execution_count": 53,
     "metadata": {},
     "output_type": "execute_result"
    }
   ],
   "source": [
    "chonghe = cycle_vendor & vendor_target_set\n",
    "chonghe"
   ]
  },
  {
   "cell_type": "code",
   "execution_count": 80,
   "id": "4c422683",
   "metadata": {},
   "outputs": [
    {
     "name": "stdout",
     "output_type": "stream",
     "text": [
      "['sia.cn', 'sia.ac.cn']\n",
      "['totalenergies.cn']\n",
      "['hzbank.com.cn']\n",
      "['china-online.com.cn']\n",
      "['hzbank.com.cn']\n",
      "['corp-email.com', 'corp-email.cn']\n",
      "['acfic.org.cn']\n",
      "['ccfccb.cn']\n",
      "['totalenergies.cn']\n",
      "['pzhu.edu.cn']\n",
      "['hccb.com.cn']\n",
      "defaultdict(<class 'list'>,\n",
      "            {'acfic': [(['acfic.org.cn'], 'ns.acfic.cn')],\n",
      "             'ccfccb': [(['ccfccb.cn'], 'dns5.ccfccb.cn')],\n",
      "             'china-online': [(['china-online.com.cn'],\n",
      "                               'ns1.china-online.com.cn')],\n",
      "             'corp-email': [(['corp-email.com', 'corp-email.cn'],\n",
      "                             'ns.corp-email.com')],\n",
      "             'hccb': [(['hccb.com.cn'], 'ns2.hccb.com.cn')],\n",
      "             'hzbank': [(['hzbank.com.cn'], 'ns7.hzbank.net'),\n",
      "                        (['hzbank.com.cn'], 'ns8.hzbank.net')],\n",
      "             'pzhu': [(['pzhu.edu.cn'], 'www.pzhu.edu.cn')],\n",
      "             'sia': [(['sia.cn', 'sia.ac.cn'], 'es.sia.ac.cn')],\n",
      "             'totalenergies': [(['totalenergies.cn'], 'ns4.totalenergies.info'),\n",
      "                               (['totalenergies.cn'],\n",
      "                                'ns1.totalenergies.net')]})\n"
     ]
    }
   ],
   "source": [
    "cycle_dict = defaultdict(list)\n",
    "\n",
    "extype = 'vendor'\n",
    "\n",
    "for i in cycle_fqdn:\n",
    "    cur = extract(i,extype)\n",
    "    if cur in chonghe:\n",
    "        cycle_dict[cur].append((vendor_targetsld_dict[cur],i))\n",
    "        print(vendor_targetsld_dict[cur])\n",
    "        \n",
    "pp(cycle_dict)"
   ]
  },
  {
   "cell_type": "markdown",
   "id": "5b0c47e7",
   "metadata": {},
   "source": [
    "发现\n",
    "\n",
    "1. 导致循环依赖的是中间的权威服务器域名\n",
    "\n",
    "需要进一步看日志文件，才能知道具体情况。比如，是不是中间递归的时候，碰上了循环依赖\n",
    "\n",
    "\n",
    "还有个问题：\n",
    "\n",
    "有一些循环依赖的域名不属于我们的目标域名，说明他们是第三方DNS厂商，说不定他们影响的范围很大（也就是说他们可能多次被其他域名采用作为权威服务器）"
   ]
  },
  {
   "cell_type": "code",
   "execution_count": 63,
   "id": "e513a4c7",
   "metadata": {},
   "outputs": [],
   "source": [
    "\n",
    "def read_target_data(target):\n",
    "    # 遍历目录中的所有文件\n",
    "    for filename in os.listdir(OUTPUT_DIR):\n",
    "        # 检查文件名中是否包含 'target'\n",
    "        if target in filename:\n",
    "            file_path = os.path.join(OUTPUT_DIR, filename)\n",
    "            # 打开并读取文件内容\n",
    "            return load_data(file_path)\n"
   ]
  },
  {
   "cell_type": "code",
   "execution_count": 75,
   "id": "6de674fe",
   "metadata": {
    "scrolled": true
   },
   "outputs": [],
   "source": [
    "# 先看一个输出文件吧，提取出对应的日志文件需要写一个函数\n",
    "\n",
    "o = read_target_data('corp-email.com')"
   ]
  },
  {
   "cell_type": "code",
   "execution_count": 76,
   "id": "976d6713",
   "metadata": {},
   "outputs": [
    {
     "data": {
      "text/plain": [
       "288"
      ]
     },
     "execution_count": 76,
     "metadata": {},
     "output_type": "execute_result"
    }
   ],
   "source": [
    "len(o)"
   ]
  },
  {
   "cell_type": "code",
   "execution_count": 79,
   "id": "cc3ae473",
   "metadata": {
    "scrolled": false
   },
   "outputs": [
    {
     "data": {
      "text/plain": [
       "124"
      ]
     },
     "execution_count": 79,
     "metadata": {},
     "output_type": "execute_result"
    }
   ],
   "source": [
    "o_err = [i for i in o if 'LOOP' in i]\n",
    "len(o_err)"
   ]
  },
  {
   "cell_type": "code",
   "execution_count": 84,
   "id": "d9c7a7b5",
   "metadata": {
    "scrolled": true
   },
   "outputs": [],
   "source": [
    "# 先看一个输出文件吧，提取出对应的日志文件需要写一个函数\n",
    "\n",
    "o = read_target_data('sia.ac')"
   ]
  },
  {
   "cell_type": "code",
   "execution_count": 85,
   "id": "3624ce20",
   "metadata": {},
   "outputs": [
    {
     "data": {
      "text/plain": [
       "9"
      ]
     },
     "execution_count": 85,
     "metadata": {},
     "output_type": "execute_result"
    }
   ],
   "source": [
    "len(o)"
   ]
  },
  {
   "cell_type": "code",
   "execution_count": 88,
   "id": "d6c7b47a",
   "metadata": {},
   "outputs": [
    {
     "data": {
      "text/plain": [
       "[\"[('j.root-servers.net', '192.58.128.30', 'www.sia.ac.cn'), ('a.dns.cn', '203.119.25.1', 'www.sia.ac.cn'), ('es.sia.ac.cn', '210.72.131.131', 'www.sia.ac.cn'), ('www.sia.ac.cn', 'www.sia.cas.cn', 'www.sia.ac.cn')]\",\n",
       " \"[('j.root-servers.net', '192.58.128.30', 'www.sia.ac.cn'), ('b.dns.cn', '203.119.26.1', 'www.sia.ac.cn'), ('es.sia.ac.cn', '210.72.131.131', 'www.sia.ac.cn'), ('www.sia.ac.cn', 'www.sia.cas.cn', 'www.sia.ac.cn')]\",\n",
       " \"[('j.root-servers.net', '192.58.128.30', 'www.sia.ac.cn'), ('ns.cernet.net', '202.112.0.44', 'www.sia.ac.cn'), ('es.sia.ac.cn', '210.72.131.131', 'www.sia.ac.cn'), ('www.sia.ac.cn', 'www.sia.cas.cn', 'www.sia.ac.cn')]\",\n",
       " \"[('j.root-servers.net', '192.58.128.30', 'www.sia.ac.cn'), ('ns.cernet.net', '202.112.0.44', 'www.sia.ac.cn'), [('j.root-servers.net', '192.58.128.30', 'ns.sia.cn'), ('a.dns.cn', '203.119.25.1', 'ns.sia.cn'), ('ns.sia.cn', '210.72.133.252', 'ns.sia.cn'), ('ns.sia.cn', '210.72.133.252', 'ns.sia.cn')], ('ns.sia.cn', '210.72.133.252', 'www.sia.ac.cn'), ('www.sia.ac.cn', 'www.sia.cas.cn', 'www.sia.ac.cn')]\",\n",
       " \"[('j.root-servers.net', '192.58.128.30', 'www.sia.ac.cn'), ('ns.cernet.net', '202.112.0.44', 'www.sia.ac.cn'), [('j.root-servers.net', '192.58.128.30', 'ns.sia.cn'), ('a.dns.cn', '203.119.25.1', 'ns.sia.cn'), [('j.root-servers.net', '192.58.128.30', 'es.sia.ac.cn'), ('es.sia.ac.cn', '$LOOP$', 'es.sia.ac.cn')], ('ns.sia.cn', '$$$', 'ns.sia.cn')], ('www.sia.ac.cn', '$$$', 'www.sia.ac.cn')]\",\n",
       " \"[('j.root-servers.net', '192.58.128.30', 'www.sia.ac.cn'), ('ns.cernet.net', '202.112.0.44', 'www.sia.ac.cn'), [('j.root-servers.net', '192.58.128.30', 'ns.sia.cn'), ('b.dns.cn', '203.119.26.1', 'ns.sia.cn'), ('ns.sia.cn', '210.72.133.252', 'ns.sia.cn'), ('ns.sia.cn', '210.72.133.252', 'ns.sia.cn')], ('ns.sia.cn', '210.72.133.252', 'www.sia.ac.cn'), ('www.sia.ac.cn', 'www.sia.cas.cn', 'www.sia.ac.cn')]\",\n",
       " \"[('j.root-servers.net', '192.58.128.30', 'www.sia.ac.cn'), ('ns.cernet.net', '202.112.0.44', 'www.sia.ac.cn'), [('j.root-servers.net', '192.58.128.30', 'ns.sia.cn'), ('b.dns.cn', '203.119.26.1', 'ns.sia.cn'), [('j.root-servers.net', '192.58.128.30', 'es.sia.ac.cn'), ('es.sia.ac.cn', '$LOOP$', 'es.sia.ac.cn')], ('ns.sia.cn', '$$$', 'ns.sia.cn')], ('www.sia.ac.cn', '$$$', 'www.sia.ac.cn')]\",\n",
       " \"[('j.root-servers.net', '192.58.128.30', 'www.sia.ac.cn'), ('ns.cernet.net', '202.112.0.44', 'www.sia.ac.cn'), [('j.root-servers.net', '192.58.128.30', 'ns.sia.cn'), ('ns.cernet.net', '202.112.0.44', 'ns.sia.cn'), ('ns.sia.cn', '210.72.133.252', 'ns.sia.cn'), ('ns.sia.cn', '210.72.133.252', 'ns.sia.cn')], ('ns.sia.cn', '210.72.133.252', 'www.sia.ac.cn'), ('www.sia.ac.cn', 'www.sia.cas.cn', 'www.sia.ac.cn')]\",\n",
       " \"[('j.root-servers.net', '192.58.128.30', 'www.sia.ac.cn'), ('ns.cernet.net', '202.112.0.44', 'www.sia.ac.cn'), [('j.root-servers.net', '192.58.128.30', 'ns.sia.cn'), ('ns.cernet.net', '202.112.0.44', 'ns.sia.cn'), [('j.root-servers.net', '192.58.128.30', 'es.sia.ac.cn'), ('es.sia.ac.cn', '$LOOP$', 'es.sia.ac.cn')], ('ns.sia.cn', '$$$', 'ns.sia.cn')], ('www.sia.ac.cn', '$$$', 'www.sia.ac.cn')]\"]"
      ]
     },
     "execution_count": 88,
     "metadata": {},
     "output_type": "execute_result"
    }
   ],
   "source": [
    "o"
   ]
  },
  {
   "cell_type": "code",
   "execution_count": 86,
   "id": "f08869f5",
   "metadata": {
    "scrolled": false
   },
   "outputs": [
    {
     "data": {
      "text/plain": [
       "3"
      ]
     },
     "execution_count": 86,
     "metadata": {},
     "output_type": "execute_result"
    }
   ],
   "source": [
    "o_err = [i for i in o if 'LOOP' in i]\n",
    "len(o_err)"
   ]
  },
  {
   "cell_type": "code",
   "execution_count": 87,
   "id": "086f6c95",
   "metadata": {},
   "outputs": [
    {
     "data": {
      "text/plain": [
       "[\"[('j.root-servers.net', '192.58.128.30', 'www.sia.ac.cn'), ('ns.cernet.net', '202.112.0.44', 'www.sia.ac.cn'), [('j.root-servers.net', '192.58.128.30', 'ns.sia.cn'), ('a.dns.cn', '203.119.25.1', 'ns.sia.cn'), [('j.root-servers.net', '192.58.128.30', 'es.sia.ac.cn'), ('es.sia.ac.cn', '$LOOP$', 'es.sia.ac.cn')], ('ns.sia.cn', '$$$', 'ns.sia.cn')], ('www.sia.ac.cn', '$$$', 'www.sia.ac.cn')]\",\n",
       " \"[('j.root-servers.net', '192.58.128.30', 'www.sia.ac.cn'), ('ns.cernet.net', '202.112.0.44', 'www.sia.ac.cn'), [('j.root-servers.net', '192.58.128.30', 'ns.sia.cn'), ('b.dns.cn', '203.119.26.1', 'ns.sia.cn'), [('j.root-servers.net', '192.58.128.30', 'es.sia.ac.cn'), ('es.sia.ac.cn', '$LOOP$', 'es.sia.ac.cn')], ('ns.sia.cn', '$$$', 'ns.sia.cn')], ('www.sia.ac.cn', '$$$', 'www.sia.ac.cn')]\",\n",
       " \"[('j.root-servers.net', '192.58.128.30', 'www.sia.ac.cn'), ('ns.cernet.net', '202.112.0.44', 'www.sia.ac.cn'), [('j.root-servers.net', '192.58.128.30', 'ns.sia.cn'), ('ns.cernet.net', '202.112.0.44', 'ns.sia.cn'), [('j.root-servers.net', '192.58.128.30', 'es.sia.ac.cn'), ('es.sia.ac.cn', '$LOOP$', 'es.sia.ac.cn')], ('ns.sia.cn', '$$$', 'ns.sia.cn')], ('www.sia.ac.cn', '$$$', 'www.sia.ac.cn')]\"]"
      ]
     },
     "execution_count": 87,
     "metadata": {},
     "output_type": "execute_result"
    }
   ],
   "source": [
    "o_err"
   ]
  },
  {
   "cell_type": "code",
   "execution_count": 89,
   "id": "d2c844da",
   "metadata": {},
   "outputs": [],
   "source": [
    "# 以上这个例子有问题，没有loop，但是记录了loop\n",
    "\n",
    "# 已查明，是依赖情况导致全局cache出现问题。因为全局cache会不断重复读写，导致链条上每个人获取的cache不是同一个版本的，有混乱\n",
    "# 解决方法是：全局存储从 存all_paths 改成存 每次查询的 cmd_output\n",
    "\n"
   ]
  },
  {
   "cell_type": "code",
   "execution_count": 90,
   "id": "b1078964",
   "metadata": {},
   "outputs": [
    {
     "data": {
      "text/plain": [
       "''"
      ]
     },
     "execution_count": 90,
     "metadata": {},
     "output_type": "execute_result"
    }
   ],
   "source": [
    "answers = []\n",
    "','.join(answers)"
   ]
  },
  {
   "cell_type": "code",
   "execution_count": null,
   "id": "f8862082",
   "metadata": {},
   "outputs": [],
   "source": []
  }
 ],
 "metadata": {
  "kernelspec": {
   "display_name": "base",
   "language": "python",
   "name": "base"
  },
  "language_info": {
   "codemirror_mode": {
    "name": "ipython",
    "version": 3
   },
   "file_extension": ".py",
   "mimetype": "text/x-python",
   "name": "python",
   "nbconvert_exporter": "python",
   "pygments_lexer": "ipython3",
   "version": "3.9.7"
  }
 },
 "nbformat": 4,
 "nbformat_minor": 5
}
